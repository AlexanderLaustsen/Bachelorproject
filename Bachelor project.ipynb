{
 "cells": [
  {
   "cell_type": "markdown",
   "metadata": {},
   "source": [
    "**Niks Pille**"
   ]
  },
  {
   "cell_type": "markdown",
   "metadata": {},
   "source": [
    "All Tickers"
   ]
  },
  {
   "cell_type": "code",
   "execution_count": 9,
   "metadata": {
    "jupyter": {
     "source_hidden": true
    }
   },
   "outputs": [],
   "source": [
    "#Getting all tickers in a list\n",
    "All_Tickers = []\n",
    "for i in range(4521):\n",
    "    All_Tickers.append(Only_Common_Stocks['symbol'][i])"
   ]
  },
  {
   "cell_type": "markdown",
   "metadata": {},
   "source": [
    "Creating 'Stock_With_All_Data'"
   ]
  },
  {
   "cell_type": "code",
   "execution_count": 171,
   "metadata": {
    "collapsed": true,
    "jupyter": {
     "outputs_hidden": true,
     "source_hidden": true
    }
   },
   "outputs": [
    {
     "name": "stdout",
     "output_type": "stream",
     "text": [
      "- AGM.A: No data found, symbol may be delisted\n",
      "- ALUS: Data doesn't exist for startDate = 946767600, endDate = 1577833200\n",
      "- AMHC: Data doesn't exist for startDate = 946767600, endDate = 1577833200\n",
      "- ARQT: Data doesn't exist for startDate = 946767600, endDate = 1577833200\n",
      "- BATL: Data doesn't exist for startDate = 946767600, endDate = 1577833200\n",
      "- BDTX: Data doesn't exist for startDate = 946767600, endDate = 1577833200\n",
      "- BEAM: Data doesn't exist for startDate = 946767600, endDate = 1577833200\n",
      "- BF.A: No data found, symbol may be delisted\n",
      "- BF.B: No data found for this date range, symbol may be delisted\n",
      "- BH.A: No data found, symbol may be delisted\n",
      "- BIO.B: No data found for this date range, symbol may be delisted\n",
      "- BRK.A: No data found, symbol may be delisted\n",
      "- BRK.B: No data found, symbol may be delisted\n",
      "- BSBK: Data doesn't exist for startDate = 946767600, endDate = 1577833200\n",
      "- BWL.A: No data found, symbol may be delisted\n",
      "- CHPM: Data doesn't exist for startDate = 946767600, endDate = 1577833200\n",
      "- CIIC: Data doesn't exist for startDate = 946767600, endDate = 1577833200\n",
      "- CRD.A: No data found, symbol may be delisted\n",
      "- CRD.B: No data found, symbol may be delisted\n",
      "- CSPR: Data doesn't exist for startDate = 946767600, endDate = 1577833200\n",
      "- CWEN.A: No data found, symbol may be delisted\n",
      "- GEF.B: No data found for this date range, symbol may be delisted\n",
      "- GRIL: Data doesn't exist for startDate = 946767600, endDate = 1577833200\n",
      "- GTN.A: No data found, symbol may be delisted\n",
      "- HCCO: Data doesn't exist for startDate = 946767600, endDate = 1577833200\n",
      "- HEI.A: No data found, symbol may be delisted\n",
      "- HVT.A: No data found, symbol may be delisted\n",
      "- JW.A: No data found, symbol may be delisted\n",
      "- JW.B: No data found, symbol may be delisted\n",
      "- LEN.B: No data found for this date range, symbol may be delisted\n",
      "- LGF.A: No data found, symbol may be delisted\n",
      "- LIVK: Data doesn't exist for startDate = 946767600, endDate = 1577833200\n",
      "- MKC.V: No data found, symbol may be delisted\n",
      "- MOG.A: No data found, symbol may be delisted\n",
      "- MOG.B: No data found, symbol may be delisted\n",
      "- NREF: Data doesn't exist for startDate = 946767600, endDate = 1577833200\n",
      "- ONEM: Data doesn't exist for startDate = 946767600, endDate = 1577833200\n",
      "- ONEW: Data doesn't exist for startDate = 946767600, endDate = 1577833200\n",
      "- PPD: Data doesn't exist for startDate = 946767600, endDate = 1577833200\n",
      "- PTAC: Data doesn't exist for startDate = 946767600, endDate = 1577833200\n",
      "- REYN: Data doesn't exist for startDate = 946767600, endDate = 1577833200\n",
      "- RVMD: Data doesn't exist for startDate = 946767600, endDate = 1577833200\n",
      "- SAQN: Data doesn't exist for startDate = 946767600, endDate = 1577833200\n",
      "- SDGR: Data doesn't exist for startDate = 946767600, endDate = 1577833200\n",
      "- SRAC: No data found for this date range, symbol may be delisted\n",
      "- STZ.B: No data found for this date range, symbol may be delisted\n",
      "- SVA: No data found, symbol may be delisted\n",
      "- TAP.A: No data found, symbol may be delisted\n",
      "- WSO.B: No data found, symbol may be delisted\n",
      "- ZCMD: No data found, symbol may be delisted\n"
     ]
    }
   ],
   "source": [
    "Stocks_With_All_Data = []\n",
    "for i in range(4521):\n",
    "    if len(yf.Ticker(All_Tickers[i]).history(start='2000-01-02', end='2020-01-01')[['Close']]) == 5031:\n",
    "        Stocks_With_All_Data.append(All_Tickers[i])"
   ]
  },
  {
   "cell_type": "code",
   "execution_count": 186,
   "metadata": {
    "jupyter": {
     "source_hidden": true
    }
   },
   "outputs": [],
   "source": [
    "with open('Stocks_With_Data.csv','w',newline='') as file:\n",
    "    wr = csv.writer(file, quoting=csv.QUOTE_ALL)\n",
    "    wr.writerow(Stocks_With_All_Data)"
   ]
  },
  {
   "cell_type": "markdown",
   "metadata": {},
   "source": [
    "Creating 'Three_Month_Treasury_Bill'"
   ]
  },
  {
   "cell_type": "code",
   "execution_count": 38,
   "metadata": {
    "jupyter": {
     "source_hidden": true
    }
   },
   "outputs": [],
   "source": [
    "#DTB3 is taken from https://fred.stlouisfed.org/\n",
    "DTB3 = pd.read_csv('DTB3.csv', index_col = 0)\n",
    "#Using Apple as a benchmark\n",
    "aapl = yf.Ticker('aapl').history(start='2000-01-02', end='2020-01-01')[['Close']]\n",
    "#Getting dates from Apple\n",
    "Dates = []\n",
    "for i in range(len(aapl)):\n",
    "    if str(aapl.index[i])[:10] in DTB3.index:\n",
    "        Dates.append(str(aapl.index[i])[:10])\n",
    "#Sorting out missing values\n",
    "Three_Month_Treasury_Bill = DTB3.loc[Dates][DTB3.loc[Dates].DTB3 != '.']\n",
    "#Creating a csv-file with the Three Month Treasury Bill\n",
    "Three_Month_Treasury_Bill.to_csv('Three_Month_Treasury_Bill.csv')"
   ]
  },
  {
   "cell_type": "markdown",
   "metadata": {},
   "source": [
    "Creating 'All_Stocks'"
   ]
  },
  {
   "cell_type": "code",
   "execution_count": 45,
   "metadata": {
    "jupyter": {
     "source_hidden": true
    }
   },
   "outputs": [],
   "source": [
    "#Make a table with the new dates\n",
    "Ny = DTB3.loc[Dates]\n",
    "#Make a new column with strings\n",
    "Ny['Datoer'] = Dates\n",
    "#Set the new column as index to make it a callable string\n",
    "Nyy = Ny.set_index('Datoer')\n",
    "#A for loop to get all tables for the chosen stocks into a single list, to be used in concatenating\n",
    "stock = []\n",
    "for i in list(dict.fromkeys(Stocks)):\n",
    "    asset = yf.Ticker(i).history(start='2000-01-02', end='2020-01-01')[['Close']]\n",
    "    asset.columns = [i]\n",
    "    stock.append(asset)\n",
    "#Concat all the tables\n",
    "Concat_Table = pd.concat([i for i in stock], axis=1, join='inner')\n",
    "#Concat the stocks with the risk free rate\n",
    "All_Tables = pd.concat([Nyy, Concat_Table.reindex(Nyy.index)],axis=1)\n",
    "#Save to a csv file\n",
    "All_Tables.to_csv('All_Stocks.csv')"
   ]
  },
  {
   "cell_type": "markdown",
   "metadata": {},
   "source": [
    "Creating 'Table'"
   ]
  },
  {
   "cell_type": "code",
   "execution_count": 48,
   "metadata": {
    "jupyter": {
     "source_hidden": true
    }
   },
   "outputs": [],
   "source": [
    "Everything = pd.read_csv('All_Stocks.csv', index_col=0)\n",
    "#Russell3000 is used as the market rate since it covers 98% of the American market\n",
    "Russell_3000 = yf.Ticker('^RUA').history(start='2000-01-02', end='2020-01-01')[['Close']]\n",
    "#Sorting out missing values from the risk-free rate\n",
    "gj = Everything.loc[:][Everything.loc[:].DTB3 != '.']\n",
    "#Making a new date list with the dates from Russell 3000\n",
    "Datess = []\n",
    "for i in range(len(Russell_3000)):\n",
    "    if str(Russell_3000.index[i])[:10] in gj.index:\n",
    "        Datess.append(str(Russell_3000.index[i])[:10])\n",
    "#Making the dates strings so they are callable\n",
    "gh = []\n",
    "for i in range(len(Russell_3000)):\n",
    "    gh.append(str(Russell_3000.index[i])[:10])\n",
    "#Making a new column with the string dates and set it as index\n",
    "Russell_3000['Datoer'] = gh\n",
    "gk = Russell_3000.set_index('Datoer')\n",
    "#Set the name of the column\n",
    "gk.columns = ['Russell3000']\n",
    "#Concat Russell3000 to the rest\n",
    "Table = pd.concat([gj.loc[Datess],gk.loc[Datess]],axis=1)\n",
    "Table.to_csv('Table.csv')"
   ]
  },
  {
   "cell_type": "markdown",
   "metadata": {},
   "source": [
    "# Bachelorproject"
   ]
  },
  {
   "cell_type": "markdown",
   "metadata": {},
   "source": [
    "Documentation:  \n",
    "https://addisonlynch.github.io/iexfinance/stable/stocks.html  \n",
    "https://github.com/ranaroussi/yfinance"
   ]
  },
  {
   "cell_type": "markdown",
   "metadata": {},
   "source": [
    "## Getting Data"
   ]
  },
  {
   "cell_type": "code",
   "execution_count": 1,
   "metadata": {},
   "outputs": [],
   "source": [
    "#All packages used\n",
    "from iexfinance.stocks import Stock\n",
    "from iexfinance.refdata import get_symbols\n",
    "import yfinance as yf\n",
    "import numpy as np\n",
    "import pandas as pd\n",
    "import csv\n",
    "token = 'sk_32c5d1b5f6b044f294391ae88eac3e47'"
   ]
  },
  {
   "cell_type": "code",
   "execution_count": 3,
   "metadata": {},
   "outputs": [],
   "source": [
    "#Get a table with everything on the financial markets in USA\n",
    "Alle_symboler = get_symbols(output_format='pandas', token=token)\n",
    "#Sorting out all the non common stocks\n",
    "Only_Common_Stocks = get_symbols()[get_symbols().type == 'cs'].reset_index(drop=True)"
   ]
  },
  {
   "cell_type": "code",
   "execution_count": 4,
   "metadata": {},
   "outputs": [],
   "source": [
    "with open('Stocks_With_Data.csv',newline='') as file:\n",
    "    reader = csv.reader(file)\n",
    "    Stocks_With_All_Data = list(reader)\n",
    "#Drawing 300 random stocks for which to be analyzed\n",
    "Stocks = []\n",
    "np.random.seed(2020)\n",
    "for i in range(300):\n",
    "    Stocks.append(Stocks_With_All_Data[0][np.random.randint(0,len(Stocks_With_All_Data[0]))])\n",
    "\n",
    "Stocks.sort()\n",
    "Every_Stock = list(dict.fromkeys(Stocks))"
   ]
  },
  {
   "cell_type": "markdown",
   "metadata": {},
   "source": [
    "### Adjusting so all data match with no missing values"
   ]
  },
  {
   "cell_type": "code",
   "execution_count": 21,
   "metadata": {},
   "outputs": [],
   "source": [
    "All = pd.read_csv('Table.csv', index_col=0)"
   ]
  },
  {
   "cell_type": "code",
   "execution_count": 22,
   "metadata": {},
   "outputs": [],
   "source": [
    "columns = []\n",
    "for i in range(283):\n",
    "    columns.append(All.columns[i])\n",
    "#Creating a table with the log values\n",
    "Logtable = pd.DataFrame()\n",
    "for i in range(283):\n",
    "    Logtable[columns[i]] = All[columns[i]].apply(np.log)"
   ]
  },
  {
   "cell_type": "code",
   "execution_count": 23,
   "metadata": {},
   "outputs": [
    {
     "name": "stderr",
     "output_type": "stream",
     "text": [
      "C:\\Users\\xande\\Anaconda3\\lib\\site-packages\\numpy\\lib\\function_base.py:1273: RuntimeWarning: invalid value encountered in subtract\n",
      "  a = op(a[slice1], a[slice2])\n"
     ]
    }
   ],
   "source": [
    "Daily = pd.DataFrame()\n",
    "for i in range(len(columns)):\n",
    "    Daily[columns[i]] = np.diff(Logtable[columns[i]],axis=0)"
   ]
  },
  {
   "cell_type": "code",
   "execution_count": 24,
   "metadata": {},
   "outputs": [],
   "source": [
    "Daily_returns = Daily.set_index(Logtable.index.values[0:-1])\n",
    "a = ['NaN','inf', '-inf']\n",
    "Daily_returnss = Daily_returns[~Daily_returns['DTB3'].isin(a)].dropna()\n",
    "Daily_returnss.to_csv('Daily_returns.csv')"
   ]
  },
  {
   "cell_type": "code",
   "execution_count": 25,
   "metadata": {},
   "outputs": [],
   "source": [
    "Daily_returns = pd.read_csv('Daily_returns.csv', index_col=0)"
   ]
  },
  {
   "cell_type": "code",
   "execution_count": 26,
   "metadata": {},
   "outputs": [],
   "source": [
    "Excess_return = pd.DataFrame()\n",
    "\n",
    "for i in range(len(columns)):\n",
    "    Excess_return[columns[i]] = Daily_returns[columns[i]] - Daily_returns['DTB3']\n",
    "del Excess_return['DTB3']"
   ]
  },
  {
   "cell_type": "code",
   "execution_count": 27,
   "metadata": {},
   "outputs": [],
   "source": [
    "Excess_return.to_csv('Excess_return.csv')"
   ]
  },
  {
   "cell_type": "code",
   "execution_count": null,
   "metadata": {},
   "outputs": [],
   "source": []
  },
  {
   "cell_type": "code",
   "execution_count": 2,
   "metadata": {},
   "outputs": [],
   "source": [
    "list = []\n",
    "for i in range(284,565,1):\n",
    "    list.append(i)\n",
    "DCC = pd.read_csv('DCC_ENGLE_ESTIMATES.csv', usecols=list)"
   ]
  },
  {
   "cell_type": "code",
   "execution_count": 3,
   "metadata": {},
   "outputs": [],
   "source": [
    "columns = []\n",
    "for i in range(280):\n",
    "    columns.append(DCC.columns[i])\n",
    "DCC_Betas = pd.DataFrame()\n",
    "for i in range(len(columns)):\n",
    "    DCC_Betas[str(columns[i][16:])] = DCC[columns[i]]/DCC['CondVar_Russell3000']"
   ]
  },
  {
   "cell_type": "code",
   "execution_count": 4,
   "metadata": {},
   "outputs": [
    {
     "data": {
      "text/html": [
       "<div>\n",
       "<style scoped>\n",
       "    .dataframe tbody tr th:only-of-type {\n",
       "        vertical-align: middle;\n",
       "    }\n",
       "\n",
       "    .dataframe tbody tr th {\n",
       "        vertical-align: top;\n",
       "    }\n",
       "\n",
       "    .dataframe thead th {\n",
       "        text-align: right;\n",
       "    }\n",
       "</style>\n",
       "<table border=\"1\" class=\"dataframe\">\n",
       "  <thead>\n",
       "    <tr style=\"text-align: right;\">\n",
       "      <th></th>\n",
       "      <th>A</th>\n",
       "      <th>AB</th>\n",
       "      <th>ABC</th>\n",
       "      <th>AEE</th>\n",
       "      <th>AEM</th>\n",
       "      <th>AES</th>\n",
       "      <th>AGM</th>\n",
       "      <th>AIT</th>\n",
       "      <th>AJG</th>\n",
       "      <th>AMRB</th>\n",
       "      <th>...</th>\n",
       "      <th>WTBA</th>\n",
       "      <th>WTM</th>\n",
       "      <th>WVVI</th>\n",
       "      <th>WWD</th>\n",
       "      <th>WWE</th>\n",
       "      <th>WYY</th>\n",
       "      <th>XLNX</th>\n",
       "      <th>XRAY</th>\n",
       "      <th>XRX</th>\n",
       "      <th>Y</th>\n",
       "    </tr>\n",
       "  </thead>\n",
       "  <tbody>\n",
       "    <tr>\n",
       "      <td>0</td>\n",
       "      <td>0.963461</td>\n",
       "      <td>0.726861</td>\n",
       "      <td>0.937743</td>\n",
       "      <td>0.993415</td>\n",
       "      <td>0.973732</td>\n",
       "      <td>0.903934</td>\n",
       "      <td>0.574007</td>\n",
       "      <td>0.954319</td>\n",
       "      <td>0.981775</td>\n",
       "      <td>0.928080</td>\n",
       "      <td>...</td>\n",
       "      <td>0.951051</td>\n",
       "      <td>0.707107</td>\n",
       "      <td>0.938068</td>\n",
       "      <td>0.661624</td>\n",
       "      <td>0.535313</td>\n",
       "      <td>0.957066</td>\n",
       "      <td>0.892779</td>\n",
       "      <td>0.951069</td>\n",
       "      <td>0.814851</td>\n",
       "      <td>-0.141580</td>\n",
       "    </tr>\n",
       "    <tr>\n",
       "      <td>1</td>\n",
       "      <td>0.983792</td>\n",
       "      <td>0.730634</td>\n",
       "      <td>0.952834</td>\n",
       "      <td>0.999637</td>\n",
       "      <td>1.003371</td>\n",
       "      <td>0.922245</td>\n",
       "      <td>0.580985</td>\n",
       "      <td>0.983155</td>\n",
       "      <td>0.990680</td>\n",
       "      <td>0.947463</td>\n",
       "      <td>...</td>\n",
       "      <td>0.974640</td>\n",
       "      <td>0.709138</td>\n",
       "      <td>0.962510</td>\n",
       "      <td>0.676917</td>\n",
       "      <td>0.553531</td>\n",
       "      <td>1.000559</td>\n",
       "      <td>0.902929</td>\n",
       "      <td>0.958395</td>\n",
       "      <td>0.827866</td>\n",
       "      <td>-0.142626</td>\n",
       "    </tr>\n",
       "    <tr>\n",
       "      <td>2</td>\n",
       "      <td>1.004552</td>\n",
       "      <td>0.734427</td>\n",
       "      <td>0.968168</td>\n",
       "      <td>1.005898</td>\n",
       "      <td>1.033912</td>\n",
       "      <td>0.940927</td>\n",
       "      <td>0.588048</td>\n",
       "      <td>1.012863</td>\n",
       "      <td>0.999666</td>\n",
       "      <td>0.967252</td>\n",
       "      <td>...</td>\n",
       "      <td>0.998814</td>\n",
       "      <td>0.711174</td>\n",
       "      <td>0.987590</td>\n",
       "      <td>0.692563</td>\n",
       "      <td>0.572369</td>\n",
       "      <td>1.046029</td>\n",
       "      <td>0.913194</td>\n",
       "      <td>0.965778</td>\n",
       "      <td>0.841088</td>\n",
       "      <td>-0.143679</td>\n",
       "    </tr>\n",
       "    <tr>\n",
       "      <td>3</td>\n",
       "      <td>1.025750</td>\n",
       "      <td>0.738239</td>\n",
       "      <td>0.983749</td>\n",
       "      <td>1.012198</td>\n",
       "      <td>1.065383</td>\n",
       "      <td>0.959987</td>\n",
       "      <td>0.595196</td>\n",
       "      <td>1.043468</td>\n",
       "      <td>1.008734</td>\n",
       "      <td>0.987454</td>\n",
       "      <td>...</td>\n",
       "      <td>1.023588</td>\n",
       "      <td>0.713216</td>\n",
       "      <td>1.013323</td>\n",
       "      <td>0.708571</td>\n",
       "      <td>0.591847</td>\n",
       "      <td>1.093565</td>\n",
       "      <td>0.923577</td>\n",
       "      <td>0.973217</td>\n",
       "      <td>0.854521</td>\n",
       "      <td>-0.144741</td>\n",
       "    </tr>\n",
       "    <tr>\n",
       "      <td>4</td>\n",
       "      <td>1.047395</td>\n",
       "      <td>0.742072</td>\n",
       "      <td>0.999580</td>\n",
       "      <td>1.018537</td>\n",
       "      <td>1.097812</td>\n",
       "      <td>0.979433</td>\n",
       "      <td>0.602432</td>\n",
       "      <td>1.074998</td>\n",
       "      <td>1.017884</td>\n",
       "      <td>1.008078</td>\n",
       "      <td>...</td>\n",
       "      <td>1.048976</td>\n",
       "      <td>0.715264</td>\n",
       "      <td>1.039727</td>\n",
       "      <td>0.724949</td>\n",
       "      <td>0.611989</td>\n",
       "      <td>1.143261</td>\n",
       "      <td>0.934077</td>\n",
       "      <td>0.980714</td>\n",
       "      <td>0.868169</td>\n",
       "      <td>-0.145810</td>\n",
       "    </tr>\n",
       "    <tr>\n",
       "      <td>...</td>\n",
       "      <td>...</td>\n",
       "      <td>...</td>\n",
       "      <td>...</td>\n",
       "      <td>...</td>\n",
       "      <td>...</td>\n",
       "      <td>...</td>\n",
       "      <td>...</td>\n",
       "      <td>...</td>\n",
       "      <td>...</td>\n",
       "      <td>...</td>\n",
       "      <td>...</td>\n",
       "      <td>...</td>\n",
       "      <td>...</td>\n",
       "      <td>...</td>\n",
       "      <td>...</td>\n",
       "      <td>...</td>\n",
       "      <td>...</td>\n",
       "      <td>...</td>\n",
       "      <td>...</td>\n",
       "      <td>...</td>\n",
       "      <td>...</td>\n",
       "    </tr>\n",
       "    <tr>\n",
       "      <td>4930</td>\n",
       "      <td>1.059108</td>\n",
       "      <td>1.342516</td>\n",
       "      <td>1.200282</td>\n",
       "      <td>1.329598</td>\n",
       "      <td>0.719155</td>\n",
       "      <td>0.877374</td>\n",
       "      <td>1.455164</td>\n",
       "      <td>1.400515</td>\n",
       "      <td>1.347076</td>\n",
       "      <td>1.327793</td>\n",
       "      <td>...</td>\n",
       "      <td>1.067479</td>\n",
       "      <td>0.687938</td>\n",
       "      <td>0.771108</td>\n",
       "      <td>1.061217</td>\n",
       "      <td>0.617527</td>\n",
       "      <td>1.046195</td>\n",
       "      <td>1.164292</td>\n",
       "      <td>1.070143</td>\n",
       "      <td>1.089241</td>\n",
       "      <td>1.156656</td>\n",
       "    </tr>\n",
       "    <tr>\n",
       "      <td>4931</td>\n",
       "      <td>1.085612</td>\n",
       "      <td>1.360909</td>\n",
       "      <td>1.219575</td>\n",
       "      <td>1.386509</td>\n",
       "      <td>0.996041</td>\n",
       "      <td>0.898617</td>\n",
       "      <td>1.469200</td>\n",
       "      <td>1.517512</td>\n",
       "      <td>1.457646</td>\n",
       "      <td>1.419995</td>\n",
       "      <td>...</td>\n",
       "      <td>1.104748</td>\n",
       "      <td>0.793528</td>\n",
       "      <td>0.830437</td>\n",
       "      <td>1.062280</td>\n",
       "      <td>0.639841</td>\n",
       "      <td>1.011345</td>\n",
       "      <td>1.173790</td>\n",
       "      <td>1.104955</td>\n",
       "      <td>1.122275</td>\n",
       "      <td>1.137603</td>\n",
       "    </tr>\n",
       "    <tr>\n",
       "      <td>4932</td>\n",
       "      <td>1.038483</td>\n",
       "      <td>1.218167</td>\n",
       "      <td>1.076426</td>\n",
       "      <td>1.270247</td>\n",
       "      <td>0.980645</td>\n",
       "      <td>0.982023</td>\n",
       "      <td>1.396857</td>\n",
       "      <td>1.464699</td>\n",
       "      <td>1.332873</td>\n",
       "      <td>1.317076</td>\n",
       "      <td>...</td>\n",
       "      <td>1.049811</td>\n",
       "      <td>0.609170</td>\n",
       "      <td>0.873733</td>\n",
       "      <td>0.914666</td>\n",
       "      <td>0.752109</td>\n",
       "      <td>0.687205</td>\n",
       "      <td>1.063416</td>\n",
       "      <td>0.937523</td>\n",
       "      <td>1.094454</td>\n",
       "      <td>1.063856</td>\n",
       "    </tr>\n",
       "    <tr>\n",
       "      <td>4933</td>\n",
       "      <td>1.058926</td>\n",
       "      <td>0.966971</td>\n",
       "      <td>1.082160</td>\n",
       "      <td>1.487341</td>\n",
       "      <td>1.028262</td>\n",
       "      <td>1.014079</td>\n",
       "      <td>1.339006</td>\n",
       "      <td>1.453938</td>\n",
       "      <td>1.393280</td>\n",
       "      <td>1.345509</td>\n",
       "      <td>...</td>\n",
       "      <td>1.247897</td>\n",
       "      <td>0.513572</td>\n",
       "      <td>0.930126</td>\n",
       "      <td>0.914990</td>\n",
       "      <td>0.671493</td>\n",
       "      <td>1.277056</td>\n",
       "      <td>1.041394</td>\n",
       "      <td>1.116476</td>\n",
       "      <td>1.063777</td>\n",
       "      <td>1.086836</td>\n",
       "    </tr>\n",
       "    <tr>\n",
       "      <td>4934</td>\n",
       "      <td>1.057349</td>\n",
       "      <td>0.848475</td>\n",
       "      <td>1.242115</td>\n",
       "      <td>1.433671</td>\n",
       "      <td>0.975323</td>\n",
       "      <td>1.013847</td>\n",
       "      <td>1.328297</td>\n",
       "      <td>1.448737</td>\n",
       "      <td>1.363687</td>\n",
       "      <td>1.435454</td>\n",
       "      <td>...</td>\n",
       "      <td>1.243519</td>\n",
       "      <td>0.349748</td>\n",
       "      <td>0.965750</td>\n",
       "      <td>0.903413</td>\n",
       "      <td>0.795855</td>\n",
       "      <td>1.441288</td>\n",
       "      <td>1.073181</td>\n",
       "      <td>1.149397</td>\n",
       "      <td>1.107063</td>\n",
       "      <td>0.908199</td>\n",
       "    </tr>\n",
       "  </tbody>\n",
       "</table>\n",
       "<p>4935 rows × 280 columns</p>\n",
       "</div>"
      ],
      "text/plain": [
       "             A        AB       ABC       AEE       AEM       AES       AGM  \\\n",
       "0     0.963461  0.726861  0.937743  0.993415  0.973732  0.903934  0.574007   \n",
       "1     0.983792  0.730634  0.952834  0.999637  1.003371  0.922245  0.580985   \n",
       "2     1.004552  0.734427  0.968168  1.005898  1.033912  0.940927  0.588048   \n",
       "3     1.025750  0.738239  0.983749  1.012198  1.065383  0.959987  0.595196   \n",
       "4     1.047395  0.742072  0.999580  1.018537  1.097812  0.979433  0.602432   \n",
       "...        ...       ...       ...       ...       ...       ...       ...   \n",
       "4930  1.059108  1.342516  1.200282  1.329598  0.719155  0.877374  1.455164   \n",
       "4931  1.085612  1.360909  1.219575  1.386509  0.996041  0.898617  1.469200   \n",
       "4932  1.038483  1.218167  1.076426  1.270247  0.980645  0.982023  1.396857   \n",
       "4933  1.058926  0.966971  1.082160  1.487341  1.028262  1.014079  1.339006   \n",
       "4934  1.057349  0.848475  1.242115  1.433671  0.975323  1.013847  1.328297   \n",
       "\n",
       "           AIT       AJG      AMRB  ...      WTBA       WTM      WVVI  \\\n",
       "0     0.954319  0.981775  0.928080  ...  0.951051  0.707107  0.938068   \n",
       "1     0.983155  0.990680  0.947463  ...  0.974640  0.709138  0.962510   \n",
       "2     1.012863  0.999666  0.967252  ...  0.998814  0.711174  0.987590   \n",
       "3     1.043468  1.008734  0.987454  ...  1.023588  0.713216  1.013323   \n",
       "4     1.074998  1.017884  1.008078  ...  1.048976  0.715264  1.039727   \n",
       "...        ...       ...       ...  ...       ...       ...       ...   \n",
       "4930  1.400515  1.347076  1.327793  ...  1.067479  0.687938  0.771108   \n",
       "4931  1.517512  1.457646  1.419995  ...  1.104748  0.793528  0.830437   \n",
       "4932  1.464699  1.332873  1.317076  ...  1.049811  0.609170  0.873733   \n",
       "4933  1.453938  1.393280  1.345509  ...  1.247897  0.513572  0.930126   \n",
       "4934  1.448737  1.363687  1.435454  ...  1.243519  0.349748  0.965750   \n",
       "\n",
       "           WWD       WWE       WYY      XLNX      XRAY       XRX         Y  \n",
       "0     0.661624  0.535313  0.957066  0.892779  0.951069  0.814851 -0.141580  \n",
       "1     0.676917  0.553531  1.000559  0.902929  0.958395  0.827866 -0.142626  \n",
       "2     0.692563  0.572369  1.046029  0.913194  0.965778  0.841088 -0.143679  \n",
       "3     0.708571  0.591847  1.093565  0.923577  0.973217  0.854521 -0.144741  \n",
       "4     0.724949  0.611989  1.143261  0.934077  0.980714  0.868169 -0.145810  \n",
       "...        ...       ...       ...       ...       ...       ...       ...  \n",
       "4930  1.061217  0.617527  1.046195  1.164292  1.070143  1.089241  1.156656  \n",
       "4931  1.062280  0.639841  1.011345  1.173790  1.104955  1.122275  1.137603  \n",
       "4932  0.914666  0.752109  0.687205  1.063416  0.937523  1.094454  1.063856  \n",
       "4933  0.914990  0.671493  1.277056  1.041394  1.116476  1.063777  1.086836  \n",
       "4934  0.903413  0.795855  1.441288  1.073181  1.149397  1.107063  0.908199  \n",
       "\n",
       "[4935 rows x 280 columns]"
      ]
     },
     "execution_count": 4,
     "metadata": {},
     "output_type": "execute_result"
    }
   ],
   "source": [
    "DCC_Betas"
   ]
  },
  {
   "cell_type": "code",
   "execution_count": 5,
   "metadata": {},
   "outputs": [
    {
     "data": {
      "text/plain": [
       "0.8484751952375358"
      ]
     },
     "execution_count": 5,
     "metadata": {},
     "output_type": "execute_result"
    }
   ],
   "source": [
    "DCC_Betas.iloc[4934][1]"
   ]
  },
  {
   "cell_type": "code",
   "execution_count": 6,
   "metadata": {},
   "outputs": [
    {
     "data": {
      "text/plain": [
       "A       7\n",
       "AB      2\n",
       "ABC     5\n",
       "AEE     9\n",
       "AEM     8\n",
       "       ..\n",
       "WYY     7\n",
       "XLNX    3\n",
       "XRAY    6\n",
       "XRX     3\n",
       "Y       0\n",
       "Name: 0, Length: 280, dtype: int64"
      ]
     },
     "execution_count": 6,
     "metadata": {},
     "output_type": "execute_result"
    }
   ],
   "source": [
    "pd.qcut(DCC_Betas.iloc[0],10,labels=False)"
   ]
  },
  {
   "cell_type": "code",
   "execution_count": 84,
   "metadata": {},
   "outputs": [],
   "source": [
    "zero  = []\n",
    "one   = []\n",
    "two   = []\n",
    "three = []\n",
    "four  = []\n",
    "five  = []\n",
    "six   = []\n",
    "seven = []\n",
    "eight = []\n",
    "nine  = []"
   ]
  },
  {
   "cell_type": "code",
   "execution_count": 85,
   "metadata": {},
   "outputs": [],
   "source": [
    "for i in range(len(DCC_Betas)):\n",
    "    for j in range(len(columns)):\n",
    "        if pd.qcut(DCC_Betas.iloc[i],10,labels=False).iloc[j] == 0:\n",
    "            zero.append(DCC_Betas.iloc[i][j])\n",
    "        elif pd.qcut(DCC_Betas.iloc[i],10,labels=False).iloc[j] == 1:\n",
    "            one.append(DCC_Betas.iloc[i][j])\n",
    "        elif pd.qcut(DCC_Betas.iloc[i],10,labels=False).iloc[j] == 2:\n",
    "            two.append(DCC_Betas.iloc[i][j])\n",
    "        elif pd.qcut(DCC_Betas.iloc[i],10,labels=False).iloc[j] == 3:\n",
    "            three.append(DCC_Betas.iloc[i][j])\n",
    "        elif pd.qcut(DCC_Betas.iloc[i],10,labels=False).iloc[j] == 4:\n",
    "            four.append(DCC_Betas.iloc[i][j])\n",
    "        elif pd.qcut(DCC_Betas.iloc[i],10,labels=False).iloc[j] == 5:\n",
    "            five.append(DCC_Betas.iloc[i][j])\n",
    "        elif pd.qcut(DCC_Betas.iloc[i],10,labels=False).iloc[j] == 6:\n",
    "            six.append(DCC_Betas.iloc[i][j])\n",
    "        elif pd.qcut(DCC_Betas.iloc[i],10,labels=False).iloc[j] == 7:\n",
    "            seven.append(DCC_Betas.iloc[i][j])\n",
    "        elif pd.qcut(DCC_Betas.iloc[i],10,labels=False).iloc[j] == 8:\n",
    "            eight.append(DCC_Betas.iloc[i][j])\n",
    "        else:\n",
    "            nine.append(DCC_Betas.iloc[i][j])"
   ]
  }
 ],
 "metadata": {
  "kernelspec": {
   "display_name": "Python 3",
   "language": "python",
   "name": "python3"
  },
  "language_info": {
   "codemirror_mode": {
    "name": "ipython",
    "version": 3
   },
   "file_extension": ".py",
   "mimetype": "text/x-python",
   "name": "python",
   "nbconvert_exporter": "python",
   "pygments_lexer": "ipython3",
   "version": "3.7.4"
  }
 },
 "nbformat": 4,
 "nbformat_minor": 4
}
