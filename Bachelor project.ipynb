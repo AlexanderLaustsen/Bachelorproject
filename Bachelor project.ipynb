{
 "cells": [
  {
   "cell_type": "markdown",
   "metadata": {},
   "source": [
    "**Niks Pille**"
   ]
  },
  {
   "cell_type": "markdown",
   "metadata": {},
   "source": [
    "All Tickers"
   ]
  },
  {
   "cell_type": "code",
   "execution_count": 9,
   "metadata": {
    "jupyter": {
     "source_hidden": true
    }
   },
   "outputs": [],
   "source": [
    "#Getting all tickers in a list\n",
    "All_Tickers = []\n",
    "for i in range(4521):\n",
    "    All_Tickers.append(Only_Common_Stocks['symbol'][i])"
   ]
  },
  {
   "cell_type": "markdown",
   "metadata": {},
   "source": [
    "Creating 'Stock_With_All_Data'"
   ]
  },
  {
   "cell_type": "code",
   "execution_count": 171,
   "metadata": {
    "collapsed": true,
    "jupyter": {
     "outputs_hidden": true,
     "source_hidden": true
    }
   },
   "outputs": [
    {
     "name": "stdout",
     "output_type": "stream",
     "text": [
      "- AGM.A: No data found, symbol may be delisted\n",
      "- ALUS: Data doesn't exist for startDate = 946767600, endDate = 1577833200\n",
      "- AMHC: Data doesn't exist for startDate = 946767600, endDate = 1577833200\n",
      "- ARQT: Data doesn't exist for startDate = 946767600, endDate = 1577833200\n",
      "- BATL: Data doesn't exist for startDate = 946767600, endDate = 1577833200\n",
      "- BDTX: Data doesn't exist for startDate = 946767600, endDate = 1577833200\n",
      "- BEAM: Data doesn't exist for startDate = 946767600, endDate = 1577833200\n",
      "- BF.A: No data found, symbol may be delisted\n",
      "- BF.B: No data found for this date range, symbol may be delisted\n",
      "- BH.A: No data found, symbol may be delisted\n",
      "- BIO.B: No data found for this date range, symbol may be delisted\n",
      "- BRK.A: No data found, symbol may be delisted\n",
      "- BRK.B: No data found, symbol may be delisted\n",
      "- BSBK: Data doesn't exist for startDate = 946767600, endDate = 1577833200\n",
      "- BWL.A: No data found, symbol may be delisted\n",
      "- CHPM: Data doesn't exist for startDate = 946767600, endDate = 1577833200\n",
      "- CIIC: Data doesn't exist for startDate = 946767600, endDate = 1577833200\n",
      "- CRD.A: No data found, symbol may be delisted\n",
      "- CRD.B: No data found, symbol may be delisted\n",
      "- CSPR: Data doesn't exist for startDate = 946767600, endDate = 1577833200\n",
      "- CWEN.A: No data found, symbol may be delisted\n",
      "- GEF.B: No data found for this date range, symbol may be delisted\n",
      "- GRIL: Data doesn't exist for startDate = 946767600, endDate = 1577833200\n",
      "- GTN.A: No data found, symbol may be delisted\n",
      "- HCCO: Data doesn't exist for startDate = 946767600, endDate = 1577833200\n",
      "- HEI.A: No data found, symbol may be delisted\n",
      "- HVT.A: No data found, symbol may be delisted\n",
      "- JW.A: No data found, symbol may be delisted\n",
      "- JW.B: No data found, symbol may be delisted\n",
      "- LEN.B: No data found for this date range, symbol may be delisted\n",
      "- LGF.A: No data found, symbol may be delisted\n",
      "- LIVK: Data doesn't exist for startDate = 946767600, endDate = 1577833200\n",
      "- MKC.V: No data found, symbol may be delisted\n",
      "- MOG.A: No data found, symbol may be delisted\n",
      "- MOG.B: No data found, symbol may be delisted\n",
      "- NREF: Data doesn't exist for startDate = 946767600, endDate = 1577833200\n",
      "- ONEM: Data doesn't exist for startDate = 946767600, endDate = 1577833200\n",
      "- ONEW: Data doesn't exist for startDate = 946767600, endDate = 1577833200\n",
      "- PPD: Data doesn't exist for startDate = 946767600, endDate = 1577833200\n",
      "- PTAC: Data doesn't exist for startDate = 946767600, endDate = 1577833200\n",
      "- REYN: Data doesn't exist for startDate = 946767600, endDate = 1577833200\n",
      "- RVMD: Data doesn't exist for startDate = 946767600, endDate = 1577833200\n",
      "- SAQN: Data doesn't exist for startDate = 946767600, endDate = 1577833200\n",
      "- SDGR: Data doesn't exist for startDate = 946767600, endDate = 1577833200\n",
      "- SRAC: No data found for this date range, symbol may be delisted\n",
      "- STZ.B: No data found for this date range, symbol may be delisted\n",
      "- SVA: No data found, symbol may be delisted\n",
      "- TAP.A: No data found, symbol may be delisted\n",
      "- WSO.B: No data found, symbol may be delisted\n",
      "- ZCMD: No data found, symbol may be delisted\n"
     ]
    }
   ],
   "source": [
    "Stocks_With_All_Data = []\n",
    "for i in range(4521):\n",
    "    if len(yf.Ticker(All_Tickers[i]).history(start='2000-01-02', end='2020-01-01')[['Close']]) == 5031:\n",
    "        Stocks_With_All_Data.append(All_Tickers[i])"
   ]
  },
  {
   "cell_type": "code",
   "execution_count": 186,
   "metadata": {
    "jupyter": {
     "source_hidden": true
    }
   },
   "outputs": [],
   "source": [
    "with open('Stocks_With_Data.csv','w',newline='') as file:\n",
    "    wr = csv.writer(file, quoting=csv.QUOTE_ALL)\n",
    "    wr.writerow(Stocks_With_All_Data)"
   ]
  },
  {
   "cell_type": "markdown",
   "metadata": {},
   "source": [
    "Creating 'Three_Month_Treasury_Bill'"
   ]
  },
  {
   "cell_type": "code",
   "execution_count": 38,
   "metadata": {
    "jupyter": {
     "source_hidden": true
    }
   },
   "outputs": [],
   "source": [
    "#DTB3 is taken from https://fred.stlouisfed.org/\n",
    "DTB3 = pd.read_csv('DTB3.csv', index_col = 0)\n",
    "#Using Apple as a benchmark\n",
    "aapl = yf.Ticker('aapl').history(start='2000-01-02', end='2020-01-01')[['Close']]\n",
    "#Getting dates from Apple\n",
    "Dates = []\n",
    "for i in range(len(aapl)):\n",
    "    if str(aapl.index[i])[:10] in DTB3.index:\n",
    "        Dates.append(str(aapl.index[i])[:10])\n",
    "#Sorting out missing values\n",
    "Three_Month_Treasury_Bill = DTB3.loc[Dates][DTB3.loc[Dates].DTB3 != '.']\n",
    "#Creating a csv-file with the Three Month Treasury Bill\n",
    "Three_Month_Treasury_Bill.to_csv('Three_Month_Treasury_Bill.csv')"
   ]
  },
  {
   "cell_type": "markdown",
   "metadata": {},
   "source": [
    "Creating 'All_Stocks'"
   ]
  },
  {
   "cell_type": "code",
   "execution_count": 45,
   "metadata": {
    "jupyter": {
     "source_hidden": true
    }
   },
   "outputs": [],
   "source": [
    "#Make a table with the new dates\n",
    "Ny = DTB3.loc[Dates]\n",
    "#Make a new column with strings\n",
    "Ny['Datoer'] = Dates\n",
    "#Set the new column as index to make it a callable string\n",
    "Nyy = Ny.set_index('Datoer')\n",
    "#A for loop to get all tables for the chosen stocks into a single list, to be used in concatenating\n",
    "stock = []\n",
    "for i in list(dict.fromkeys(Stocks)):\n",
    "    asset = yf.Ticker(i).history(start='2000-01-02', end='2020-01-01')[['Close']]\n",
    "    asset.columns = [i]\n",
    "    stock.append(asset)\n",
    "#Concat all the tables\n",
    "Concat_Table = pd.concat([i for i in stock], axis=1, join='inner')\n",
    "#Concat the stocks with the risk free rate\n",
    "All_Tables = pd.concat([Nyy, Concat_Table.reindex(Nyy.index)],axis=1)\n",
    "#Save to a csv file\n",
    "All_Tables.to_csv('All_Stocks.csv')"
   ]
  },
  {
   "cell_type": "markdown",
   "metadata": {},
   "source": [
    "Creating 'Table'"
   ]
  },
  {
   "cell_type": "code",
   "execution_count": 48,
   "metadata": {
    "jupyter": {
     "source_hidden": true
    }
   },
   "outputs": [],
   "source": [
    "Everything = pd.read_csv('All_Stocks.csv', index_col=0)\n",
    "#Russell3000 is used as the market rate since it covers 98% of the American market\n",
    "Russell_3000 = yf.Ticker('^RUA').history(start='2000-01-02', end='2020-01-01')[['Close']]\n",
    "#Sorting out missing values from the risk-free rate\n",
    "gj = Everything.loc[:][Everything.loc[:].DTB3 != '.']\n",
    "#Making a new date list with the dates from Russell 3000\n",
    "Datess = []\n",
    "for i in range(len(Russell_3000)):\n",
    "    if str(Russell_3000.index[i])[:10] in gj.index:\n",
    "        Datess.append(str(Russell_3000.index[i])[:10])\n",
    "#Making the dates strings so they are callable\n",
    "gh = []\n",
    "for i in range(len(Russell_3000)):\n",
    "    gh.append(str(Russell_3000.index[i])[:10])\n",
    "#Making a new column with the string dates and set it as index\n",
    "Russell_3000['Datoer'] = gh\n",
    "gk = Russell_3000.set_index('Datoer')\n",
    "#Set the name of the column\n",
    "gk.columns = ['Russell3000']\n",
    "#Concat Russell3000 to the rest\n",
    "Table = pd.concat([gj.loc[Datess],gk.loc[Datess]],axis=1)\n",
    "Table.to_csv('Table.csv')"
   ]
  },
  {
   "cell_type": "markdown",
   "metadata": {},
   "source": [
    "# Bachelorproject"
   ]
  },
  {
   "cell_type": "markdown",
   "metadata": {},
   "source": [
    "Documentation:  \n",
    "https://addisonlynch.github.io/iexfinance/stable/stocks.html  \n",
    "https://github.com/ranaroussi/yfinance"
   ]
  },
  {
   "cell_type": "markdown",
   "metadata": {},
   "source": [
    "## Getting Data"
   ]
  },
  {
   "cell_type": "code",
   "execution_count": 1,
   "metadata": {},
   "outputs": [],
   "source": [
    "#All packages used\n",
    "from iexfinance.stocks import Stock\n",
    "from iexfinance.refdata import get_symbols\n",
    "import yfinance as yf\n",
    "import numpy as np\n",
    "import pandas as pd\n",
    "import csv\n",
    "token = 'sk_32c5d1b5f6b044f294391ae88eac3e47'"
   ]
  },
  {
   "cell_type": "code",
   "execution_count": 2,
   "metadata": {},
   "outputs": [],
   "source": [
    "#Get a table with everything on the financial markets in USA\n",
    "Alle_symboler = get_symbols(output_format='pandas', token=token)\n",
    "#Sorting out all the non common stocks\n",
    "Only_Common_Stocks = get_symbols()[get_symbols().type == 'cs'].reset_index(drop=True)"
   ]
  },
  {
   "cell_type": "code",
   "execution_count": 2,
   "metadata": {},
   "outputs": [],
   "source": [
    "with open('Stocks_With_Data.csv',newline='') as file:\n",
    "    reader = csv.reader(file)\n",
    "    Stocks_With_All_Data = list(reader)\n",
    "#Drawing 300 random stocks for which to be analyzed\n",
    "Stocks = []\n",
    "np.random.seed(2020)\n",
    "for i in range(300):\n",
    "    Stocks.append(Stocks_With_All_Data[0][np.random.randint(0,len(Stocks_With_All_Data[0]))])\n",
    "\n",
    "Stocks.sort()\n",
    "Every_Stock = list(dict.fromkeys(Stocks))"
   ]
  },
  {
   "cell_type": "markdown",
   "metadata": {},
   "source": [
    "### Adjusting so all data match with no missing values"
   ]
  },
  {
   "cell_type": "code",
   "execution_count": 3,
   "metadata": {},
   "outputs": [],
   "source": [
    "All = pd.read_csv('Table.csv', index_col=0)"
   ]
  },
  {
   "cell_type": "code",
   "execution_count": 6,
   "metadata": {},
   "outputs": [],
   "source": [
    "columns = []\n",
    "for i in range(283):\n",
    "    columns.append(All.columns[i])\n",
    "#Creating a table with the log values\n",
    "Logtable = pd.DataFrame()\n",
    "for i in range(283):\n",
    "    Logtable[columns[i]] = All[columns[i]].apply(np.log)"
   ]
  },
  {
   "cell_type": "code",
   "execution_count": 9,
   "metadata": {},
   "outputs": [],
   "source": [
    "Daily = pd.DataFrame()\n",
    "for i in range(len(columns)):\n",
    "    Daily[columns[i]] = np.diff(Logtable[columns[i]],axis=0)"
   ]
  },
  {
   "cell_type": "code",
   "execution_count": 61,
   "metadata": {},
   "outputs": [],
   "source": [
    "Daily_returns = Daily.set_index(Logtable.index.values[0:-1])\n",
    "a = ['NaN','inf', '-inf']\n",
    "Daily_returnss = Daily_returns[~Daily_returns['DTB3'].isin(a)]\n",
    "Daily_returnss.to_csv('Daily_returns.csv')"
   ]
  },
  {
   "cell_type": "code",
   "execution_count": 62,
   "metadata": {},
   "outputs": [],
   "source": [
    "Daily_returns = pd.read_csv('Daily_returns.csv', index_col=0)"
   ]
  },
  {
   "cell_type": "code",
   "execution_count": 63,
   "metadata": {},
   "outputs": [],
   "source": [
    "Excess_return = pd.DataFrame()\n",
    "\n",
    "for i in range(len(columns)):\n",
    "    Excess_return[columns[i]] = Daily_returns[columns[i]] - Daily_returns['DTB3']\n",
    "del Excess_return['DTB3']"
   ]
  },
  {
   "cell_type": "code",
   "execution_count": 64,
   "metadata": {},
   "outputs": [],
   "source": [
    "Excess_return.to_csv('Excess_return.csv')"
   ]
  }
 ],
 "metadata": {
  "kernelspec": {
   "display_name": "Python 3",
   "language": "python",
   "name": "python3"
  },
  "language_info": {
   "codemirror_mode": {
    "name": "ipython",
    "version": 3
   },
   "file_extension": ".py",
   "mimetype": "text/x-python",
   "name": "python",
   "nbconvert_exporter": "python",
   "pygments_lexer": "ipython3",
   "version": "3.7.4"
  }
 },
 "nbformat": 4,
 "nbformat_minor": 4
}
