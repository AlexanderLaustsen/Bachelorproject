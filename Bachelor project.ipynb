{
 "cells": [
  {
   "cell_type": "markdown",
   "metadata": {},
   "source": [
    "**Niks Pille**"
   ]
  },
  {
   "cell_type": "markdown",
   "metadata": {},
   "source": [
    "All Tickers"
   ]
  },
  {
   "cell_type": "code",
   "execution_count": 9,
   "metadata": {
    "jupyter": {
     "source_hidden": true
    }
   },
   "outputs": [],
   "source": [
    "#Getting all tickers in a list\n",
    "All_Tickers = []\n",
    "for i in range(4521):\n",
    "    All_Tickers.append(Only_Common_Stocks['symbol'][i])"
   ]
  },
  {
   "cell_type": "markdown",
   "metadata": {},
   "source": [
    "Creating 'Stock_With_All_Data'"
   ]
  },
  {
   "cell_type": "code",
   "execution_count": 171,
   "metadata": {
    "collapsed": true,
    "jupyter": {
     "outputs_hidden": true,
     "source_hidden": true
    }
   },
   "outputs": [
    {
     "name": "stdout",
     "output_type": "stream",
     "text": [
      "- AGM.A: No data found, symbol may be delisted\n",
      "- ALUS: Data doesn't exist for startDate = 946767600, endDate = 1577833200\n",
      "- AMHC: Data doesn't exist for startDate = 946767600, endDate = 1577833200\n",
      "- ARQT: Data doesn't exist for startDate = 946767600, endDate = 1577833200\n",
      "- BATL: Data doesn't exist for startDate = 946767600, endDate = 1577833200\n",
      "- BDTX: Data doesn't exist for startDate = 946767600, endDate = 1577833200\n",
      "- BEAM: Data doesn't exist for startDate = 946767600, endDate = 1577833200\n",
      "- BF.A: No data found, symbol may be delisted\n",
      "- BF.B: No data found for this date range, symbol may be delisted\n",
      "- BH.A: No data found, symbol may be delisted\n",
      "- BIO.B: No data found for this date range, symbol may be delisted\n",
      "- BRK.A: No data found, symbol may be delisted\n",
      "- BRK.B: No data found, symbol may be delisted\n",
      "- BSBK: Data doesn't exist for startDate = 946767600, endDate = 1577833200\n",
      "- BWL.A: No data found, symbol may be delisted\n",
      "- CHPM: Data doesn't exist for startDate = 946767600, endDate = 1577833200\n",
      "- CIIC: Data doesn't exist for startDate = 946767600, endDate = 1577833200\n",
      "- CRD.A: No data found, symbol may be delisted\n",
      "- CRD.B: No data found, symbol may be delisted\n",
      "- CSPR: Data doesn't exist for startDate = 946767600, endDate = 1577833200\n",
      "- CWEN.A: No data found, symbol may be delisted\n",
      "- GEF.B: No data found for this date range, symbol may be delisted\n",
      "- GRIL: Data doesn't exist for startDate = 946767600, endDate = 1577833200\n",
      "- GTN.A: No data found, symbol may be delisted\n",
      "- HCCO: Data doesn't exist for startDate = 946767600, endDate = 1577833200\n",
      "- HEI.A: No data found, symbol may be delisted\n",
      "- HVT.A: No data found, symbol may be delisted\n",
      "- JW.A: No data found, symbol may be delisted\n",
      "- JW.B: No data found, symbol may be delisted\n",
      "- LEN.B: No data found for this date range, symbol may be delisted\n",
      "- LGF.A: No data found, symbol may be delisted\n",
      "- LIVK: Data doesn't exist for startDate = 946767600, endDate = 1577833200\n",
      "- MKC.V: No data found, symbol may be delisted\n",
      "- MOG.A: No data found, symbol may be delisted\n",
      "- MOG.B: No data found, symbol may be delisted\n",
      "- NREF: Data doesn't exist for startDate = 946767600, endDate = 1577833200\n",
      "- ONEM: Data doesn't exist for startDate = 946767600, endDate = 1577833200\n",
      "- ONEW: Data doesn't exist for startDate = 946767600, endDate = 1577833200\n",
      "- PPD: Data doesn't exist for startDate = 946767600, endDate = 1577833200\n",
      "- PTAC: Data doesn't exist for startDate = 946767600, endDate = 1577833200\n",
      "- REYN: Data doesn't exist for startDate = 946767600, endDate = 1577833200\n",
      "- RVMD: Data doesn't exist for startDate = 946767600, endDate = 1577833200\n",
      "- SAQN: Data doesn't exist for startDate = 946767600, endDate = 1577833200\n",
      "- SDGR: Data doesn't exist for startDate = 946767600, endDate = 1577833200\n",
      "- SRAC: No data found for this date range, symbol may be delisted\n",
      "- STZ.B: No data found for this date range, symbol may be delisted\n",
      "- SVA: No data found, symbol may be delisted\n",
      "- TAP.A: No data found, symbol may be delisted\n",
      "- WSO.B: No data found, symbol may be delisted\n",
      "- ZCMD: No data found, symbol may be delisted\n"
     ]
    }
   ],
   "source": [
    "Stocks_With_All_Data = []\n",
    "for i in range(4521):\n",
    "    if len(yf.Ticker(All_Tickers[i]).history(start='2000-01-02', end='2020-01-01')[['Close']]) == 5031:\n",
    "        Stocks_With_All_Data.append(All_Tickers[i])"
   ]
  },
  {
   "cell_type": "code",
   "execution_count": 186,
   "metadata": {
    "jupyter": {
     "source_hidden": true
    }
   },
   "outputs": [],
   "source": [
    "with open('Stocks_With_Data.csv','w',newline='') as file:\n",
    "    wr = csv.writer(file, quoting=csv.QUOTE_ALL)\n",
    "    wr.writerow(Stocks_With_All_Data)"
   ]
  },
  {
   "cell_type": "markdown",
   "metadata": {},
   "source": [
    "Creating 'Three_Month_Treasury_Bill'"
   ]
  },
  {
   "cell_type": "code",
   "execution_count": 38,
   "metadata": {
    "jupyter": {
     "source_hidden": true
    }
   },
   "outputs": [],
   "source": [
    "#DTB3 is taken from https://fred.stlouisfed.org/\n",
    "DTB3 = pd.read_csv('DTB3.csv', index_col = 0)\n",
    "#Using Apple as a benchmark\n",
    "aapl = yf.Ticker('aapl').history(start='2000-01-02', end='2020-01-01')[['Close']]\n",
    "#Getting dates from Apple\n",
    "Dates = []\n",
    "for i in range(len(aapl)):\n",
    "    if str(aapl.index[i])[:10] in DTB3.index:\n",
    "        Dates.append(str(aapl.index[i])[:10])\n",
    "#Sorting out missing values\n",
    "Three_Month_Treasury_Bill = DTB3.loc[Dates][DTB3.loc[Dates].DTB3 != '.']\n",
    "#Creating a csv-file with the Three Month Treasury Bill\n",
    "Three_Month_Treasury_Bill.to_csv('Three_Month_Treasury_Bill.csv')"
   ]
  },
  {
   "cell_type": "markdown",
   "metadata": {},
   "source": [
    "Creating 'All_Stocks'"
   ]
  },
  {
   "cell_type": "code",
   "execution_count": 45,
   "metadata": {
    "jupyter": {
     "source_hidden": true
    }
   },
   "outputs": [],
   "source": [
    "#Make a table with the new dates\n",
    "Ny = DTB3.loc[Dates]\n",
    "#Make a new column with strings\n",
    "Ny['Datoer'] = Dates\n",
    "#Set the new column as index to make it a callable string\n",
    "Nyy = Ny.set_index('Datoer')\n",
    "#A for loop to get all tables for the chosen stocks into a single list, to be used in concatenating\n",
    "stock = []\n",
    "for i in list(dict.fromkeys(Stocks)):\n",
    "    asset = yf.Ticker(i).history(start='2000-01-02', end='2020-01-01')[['Close']]\n",
    "    asset.columns = [i]\n",
    "    stock.append(asset)\n",
    "#Concat all the tables\n",
    "Concat_Table = pd.concat([i for i in stock], axis=1, join='inner')\n",
    "#Concat the stocks with the risk free rate\n",
    "All_Tables = pd.concat([Nyy, Concat_Table.reindex(Nyy.index)],axis=1)\n",
    "#Save to a csv file\n",
    "All_Tables.to_csv('All_Stocks.csv')"
   ]
  },
  {
   "cell_type": "markdown",
   "metadata": {},
   "source": [
    "Creating 'Table'"
   ]
  },
  {
   "cell_type": "code",
   "execution_count": 48,
   "metadata": {
    "jupyter": {
     "source_hidden": true
    }
   },
   "outputs": [],
   "source": [
    "Everything = pd.read_csv('All_Stocks.csv', index_col=0)\n",
    "#Russell3000 is used as the market rate since it covers 98% of the American market\n",
    "Russell_3000 = yf.Ticker('^RUA').history(start='2000-01-02', end='2020-01-01')[['Close']]\n",
    "#Sorting out missing values from the risk-free rate\n",
    "gj = Everything.loc[:][Everything.loc[:].DTB3 != '.']\n",
    "#Making a new date list with the dates from Russell 3000\n",
    "Datess = []\n",
    "for i in range(len(Russell_3000)):\n",
    "    if str(Russell_3000.index[i])[:10] in gj.index:\n",
    "        Datess.append(str(Russell_3000.index[i])[:10])\n",
    "#Making the dates strings so they are callable\n",
    "gh = []\n",
    "for i in range(len(Russell_3000)):\n",
    "    gh.append(str(Russell_3000.index[i])[:10])\n",
    "#Making a new column with the string dates and set it as index\n",
    "Russell_3000['Datoer'] = gh\n",
    "gk = Russell_3000.set_index('Datoer')\n",
    "#Set the name of the column\n",
    "gk.columns = ['Russell3000']\n",
    "#Concat Russell3000 to the rest\n",
    "Table = pd.concat([gj.loc[Datess],gk.loc[Datess]],axis=1)\n",
    "Table.to_csv('Table.csv')"
   ]
  },
  {
   "cell_type": "markdown",
   "metadata": {},
   "source": [
    "# Bachelorproject"
   ]
  },
  {
   "cell_type": "markdown",
   "metadata": {},
   "source": [
    "Documentation:  \n",
    "https://addisonlynch.github.io/iexfinance/stable/stocks.html  \n",
    "https://github.com/ranaroussi/yfinance"
   ]
  },
  {
   "cell_type": "markdown",
   "metadata": {},
   "source": [
    "## Getting Data"
   ]
  },
  {
   "cell_type": "code",
   "execution_count": 1,
   "metadata": {},
   "outputs": [],
   "source": [
    "#All packages used\n",
    "from iexfinance.stocks import Stock\n",
    "from iexfinance.refdata import get_symbols\n",
    "import yfinance as yf\n",
    "import numpy as np\n",
    "import pandas as pd\n",
    "import csv\n",
    "token = 'sk_32c5d1b5f6b044f294391ae88eac3e47'"
   ]
  },
  {
   "cell_type": "code",
   "execution_count": 2,
   "metadata": {},
   "outputs": [],
   "source": [
    "#Get a table with everything on the financial markets in USA\n",
    "Alle_symboler = get_symbols(output_format='pandas', token=token)\n",
    "#Sorting out all the non common stocks\n",
    "Only_Common_Stocks = get_symbols()[get_symbols().type == 'cs'].reset_index(drop=True)"
   ]
  },
  {
   "cell_type": "code",
   "execution_count": 3,
   "metadata": {},
   "outputs": [],
   "source": [
    "with open('Stocks_With_Data.csv',newline='') as file:\n",
    "    reader = csv.reader(file)\n",
    "    Stocks_With_All_Data = list(reader)\n",
    "#Drawing 300 random stocks for which to be analyzed\n",
    "Stocks = []\n",
    "np.random.seed(2020)\n",
    "for i in range(300):\n",
    "    Stocks.append(Stocks_With_All_Data[0][np.random.randint(0,len(Stocks_With_All_Data[0]))])\n",
    "\n",
    "Stocks.sort()\n",
    "Every_Stock = list(dict.fromkeys(Stocks))"
   ]
  },
  {
   "cell_type": "markdown",
   "metadata": {},
   "source": [
    "### Adjusting so all data match with no missing values"
   ]
  },
  {
   "cell_type": "code",
   "execution_count": 4,
   "metadata": {},
   "outputs": [],
   "source": [
    "All = pd.read_csv('Table.csv', index_col=0)"
   ]
  },
  {
   "cell_type": "code",
   "execution_count": 15,
   "metadata": {},
   "outputs": [],
   "source": [
    "columns = []\n",
    "for i in range(283):\n",
    "    columns.append(All.columns[i])\n",
    "#Creating a table with the log values\n",
    "Logtable = pd.DataFrame()\n",
    "for i in range(283):\n",
    "    Logtable[columns[i]] = All[columns[i]].apply(np.log)"
   ]
  },
  {
   "cell_type": "code",
   "execution_count": 84,
   "metadata": {},
   "outputs": [],
   "source": [
    "Daily = pd.DataFrame()\n",
    "for i in range(len(columns)):\n",
    "    Daily[columns[i]] = np.diff(Logtable[columns[i]],axis=0)"
   ]
  },
  {
   "cell_type": "code",
   "execution_count": 85,
   "metadata": {},
   "outputs": [],
   "source": [
    "Daily_returns = Daily.set_index(Logtable.index.values[0:-1])\n",
    "Daily_returns.to_csv('Daily_returns.csv')"
   ]
  },
  {
   "cell_type": "code",
   "execution_count": 7,
   "metadata": {},
   "outputs": [],
   "source": [
    "Daily_returns = pd.read_csv('Daily_returns.csv', index_col=0)"
   ]
  },
  {
   "cell_type": "code",
   "execution_count": 17,
   "metadata": {},
   "outputs": [],
   "source": [
    "Excess_return = pd.DataFrame()\n",
    "\n",
    "for i in range(len(columns)):\n",
    "    Excess_return[columns[i]] = Daily_returns[columns[i]] - Daily_returns['DTB3']\n",
    "del Excess_return['DTB3']"
   ]
  },
  {
   "cell_type": "code",
   "execution_count": 35,
   "metadata": {},
   "outputs": [],
   "source": [
    "Excess_return.to_csv('Excess_return.csv')"
   ]
  },
  {
   "cell_type": "code",
   "execution_count": 36,
   "metadata": {},
   "outputs": [
    {
     "data": {
      "text/html": [
       "<div>\n",
       "<style scoped>\n",
       "    .dataframe tbody tr th:only-of-type {\n",
       "        vertical-align: middle;\n",
       "    }\n",
       "\n",
       "    .dataframe tbody tr th {\n",
       "        vertical-align: top;\n",
       "    }\n",
       "\n",
       "    .dataframe thead th {\n",
       "        text-align: right;\n",
       "    }\n",
       "</style>\n",
       "<table border=\"1\" class=\"dataframe\">\n",
       "  <thead>\n",
       "    <tr style=\"text-align: right;\">\n",
       "      <th></th>\n",
       "      <th>A</th>\n",
       "      <th>AB</th>\n",
       "      <th>ABC</th>\n",
       "      <th>ADM</th>\n",
       "      <th>AEE</th>\n",
       "      <th>AEM</th>\n",
       "      <th>AES</th>\n",
       "      <th>AGM</th>\n",
       "      <th>AIT</th>\n",
       "      <th>AJG</th>\n",
       "      <th>...</th>\n",
       "      <th>WTM</th>\n",
       "      <th>WVVI</th>\n",
       "      <th>WWD</th>\n",
       "      <th>WWE</th>\n",
       "      <th>WYY</th>\n",
       "      <th>XLNX</th>\n",
       "      <th>XRAY</th>\n",
       "      <th>XRX</th>\n",
       "      <th>Y</th>\n",
       "      <th>Russell3000</th>\n",
       "    </tr>\n",
       "  </thead>\n",
       "  <tbody>\n",
       "    <tr>\n",
       "      <td>2000-01-03</td>\n",
       "      <td>-0.079649</td>\n",
       "      <td>-0.004035</td>\n",
       "      <td>-0.072571</td>\n",
       "      <td>-0.011364</td>\n",
       "      <td>0.000000</td>\n",
       "      <td>-0.026404</td>\n",
       "      <td>-0.040341</td>\n",
       "      <td>-0.026170</td>\n",
       "      <td>-0.015306</td>\n",
       "      <td>-0.046030</td>\n",
       "      <td>...</td>\n",
       "      <td>-0.008499</td>\n",
       "      <td>0.030772</td>\n",
       "      <td>0.002886</td>\n",
       "      <td>-0.043394</td>\n",
       "      <td>0.000000</td>\n",
       "      <td>-0.022990</td>\n",
       "      <td>0.000000</td>\n",
       "      <td>-0.047507</td>\n",
       "      <td>-0.005382</td>\n",
       "      <td>-0.039434</td>\n",
       "    </tr>\n",
       "    <tr>\n",
       "      <td>2000-01-04</td>\n",
       "      <td>-0.065833</td>\n",
       "      <td>0.002139</td>\n",
       "      <td>0.074003</td>\n",
       "      <td>-0.017735</td>\n",
       "      <td>0.035907</td>\n",
       "      <td>-0.010292</td>\n",
       "      <td>0.008614</td>\n",
       "      <td>-0.056384</td>\n",
       "      <td>-0.025304</td>\n",
       "      <td>0.002134</td>\n",
       "      <td>...</td>\n",
       "      <td>0.026620</td>\n",
       "      <td>0.027957</td>\n",
       "      <td>-0.028175</td>\n",
       "      <td>0.034625</td>\n",
       "      <td>-0.015523</td>\n",
       "      <td>-0.024174</td>\n",
       "      <td>0.016584</td>\n",
       "      <td>0.048270</td>\n",
       "      <td>-0.005595</td>\n",
       "      <td>-0.000190</td>\n",
       "    </tr>\n",
       "    <tr>\n",
       "      <td>2000-01-05</td>\n",
       "      <td>-0.032993</td>\n",
       "      <td>0.021677</td>\n",
       "      <td>0.079331</td>\n",
       "      <td>0.011487</td>\n",
       "      <td>0.002467</td>\n",
       "      <td>0.022421</td>\n",
       "      <td>0.013955</td>\n",
       "      <td>0.043379</td>\n",
       "      <td>-0.012895</td>\n",
       "      <td>0.003013</td>\n",
       "      <td>...</td>\n",
       "      <td>-0.001610</td>\n",
       "      <td>-0.024155</td>\n",
       "      <td>-0.006207</td>\n",
       "      <td>-0.059853</td>\n",
       "      <td>0.192597</td>\n",
       "      <td>-0.084961</td>\n",
       "      <td>0.005698</td>\n",
       "      <td>-0.015190</td>\n",
       "      <td>0.011100</td>\n",
       "      <td>0.005222</td>\n",
       "    </tr>\n",
       "    <tr>\n",
       "      <td>2000-01-06</td>\n",
       "      <td>0.085669</td>\n",
       "      <td>0.038222</td>\n",
       "      <td>0.127620</td>\n",
       "      <td>0.021479</td>\n",
       "      <td>0.020189</td>\n",
       "      <td>0.031919</td>\n",
       "      <td>0.024853</td>\n",
       "      <td>0.032338</td>\n",
       "      <td>-0.026970</td>\n",
       "      <td>0.043969</td>\n",
       "      <td>...</td>\n",
       "      <td>-0.000603</td>\n",
       "      <td>0.035584</td>\n",
       "      <td>0.005731</td>\n",
       "      <td>0.010139</td>\n",
       "      <td>0.005731</td>\n",
       "      <td>0.113145</td>\n",
       "      <td>0.004321</td>\n",
       "      <td>0.029081</td>\n",
       "      <td>0.032587</td>\n",
       "      <td>0.032486</td>\n",
       "    </tr>\n",
       "    <tr>\n",
       "      <td>2000-01-07</td>\n",
       "      <td>0.055024</td>\n",
       "      <td>-0.021889</td>\n",
       "      <td>0.020469</td>\n",
       "      <td>-0.003824</td>\n",
       "      <td>-0.011027</td>\n",
       "      <td>0.005822</td>\n",
       "      <td>0.040094</td>\n",
       "      <td>0.002905</td>\n",
       "      <td>0.020801</td>\n",
       "      <td>-0.040719</td>\n",
       "      <td>...</td>\n",
       "      <td>-0.005882</td>\n",
       "      <td>-0.033677</td>\n",
       "      <td>-0.065572</td>\n",
       "      <td>-0.006761</td>\n",
       "      <td>-0.099134</td>\n",
       "      <td>0.045698</td>\n",
       "      <td>0.018492</td>\n",
       "      <td>-0.027174</td>\n",
       "      <td>-0.019333</td>\n",
       "      <td>0.011535</td>\n",
       "    </tr>\n",
       "    <tr>\n",
       "      <td>...</td>\n",
       "      <td>...</td>\n",
       "      <td>...</td>\n",
       "      <td>...</td>\n",
       "      <td>...</td>\n",
       "      <td>...</td>\n",
       "      <td>...</td>\n",
       "      <td>...</td>\n",
       "      <td>...</td>\n",
       "      <td>...</td>\n",
       "      <td>...</td>\n",
       "      <td>...</td>\n",
       "      <td>...</td>\n",
       "      <td>...</td>\n",
       "      <td>...</td>\n",
       "      <td>...</td>\n",
       "      <td>...</td>\n",
       "      <td>...</td>\n",
       "      <td>...</td>\n",
       "      <td>...</td>\n",
       "      <td>...</td>\n",
       "      <td>...</td>\n",
       "    </tr>\n",
       "    <tr>\n",
       "      <td>2019-12-23</td>\n",
       "      <td>0.006901</td>\n",
       "      <td>0.007791</td>\n",
       "      <td>0.004434</td>\n",
       "      <td>0.007744</td>\n",
       "      <td>0.007893</td>\n",
       "      <td>0.032966</td>\n",
       "      <td>0.003377</td>\n",
       "      <td>-0.000174</td>\n",
       "      <td>0.011708</td>\n",
       "      <td>0.009622</td>\n",
       "      <td>...</td>\n",
       "      <td>0.011805</td>\n",
       "      <td>0.007863</td>\n",
       "      <td>0.002142</td>\n",
       "      <td>0.002422</td>\n",
       "      <td>-0.018887</td>\n",
       "      <td>0.002258</td>\n",
       "      <td>0.006956</td>\n",
       "      <td>0.006970</td>\n",
       "      <td>0.002668</td>\n",
       "      <td>0.006516</td>\n",
       "    </tr>\n",
       "    <tr>\n",
       "      <td>2019-12-24</td>\n",
       "      <td>0.001761</td>\n",
       "      <td>0.002715</td>\n",
       "      <td>-0.004360</td>\n",
       "      <td>0.002621</td>\n",
       "      <td>-0.001462</td>\n",
       "      <td>-0.000491</td>\n",
       "      <td>0.008627</td>\n",
       "      <td>0.006365</td>\n",
       "      <td>0.002103</td>\n",
       "      <td>-0.000106</td>\n",
       "      <td>...</td>\n",
       "      <td>-0.012207</td>\n",
       "      <td>0.005706</td>\n",
       "      <td>-0.002447</td>\n",
       "      <td>0.008003</td>\n",
       "      <td>-0.025975</td>\n",
       "      <td>0.001936</td>\n",
       "      <td>-0.010208</td>\n",
       "      <td>0.002959</td>\n",
       "      <td>0.002836</td>\n",
       "      <td>0.004546</td>\n",
       "    </tr>\n",
       "    <tr>\n",
       "      <td>2019-12-26</td>\n",
       "      <td>0.006121</td>\n",
       "      <td>-0.002719</td>\n",
       "      <td>0.004818</td>\n",
       "      <td>0.008652</td>\n",
       "      <td>0.015213</td>\n",
       "      <td>0.006309</td>\n",
       "      <td>0.008996</td>\n",
       "      <td>0.000469</td>\n",
       "      <td>0.001207</td>\n",
       "      <td>0.008595</td>\n",
       "      <td>...</td>\n",
       "      <td>-0.000243</td>\n",
       "      <td>0.006473</td>\n",
       "      <td>0.004612</td>\n",
       "      <td>-0.001530</td>\n",
       "      <td>0.057766</td>\n",
       "      <td>0.003823</td>\n",
       "      <td>0.011941</td>\n",
       "      <td>0.001896</td>\n",
       "      <td>0.007669</td>\n",
       "      <td>0.005946</td>\n",
       "    </tr>\n",
       "    <tr>\n",
       "      <td>2019-12-27</td>\n",
       "      <td>-0.003997</td>\n",
       "      <td>0.009869</td>\n",
       "      <td>-0.015136</td>\n",
       "      <td>-0.003926</td>\n",
       "      <td>0.003422</td>\n",
       "      <td>0.018980</td>\n",
       "      <td>0.003020</td>\n",
       "      <td>-0.002895</td>\n",
       "      <td>0.003914</td>\n",
       "      <td>0.001589</td>\n",
       "      <td>...</td>\n",
       "      <td>0.018422</td>\n",
       "      <td>-0.007138</td>\n",
       "      <td>-0.001864</td>\n",
       "      <td>-0.011500</td>\n",
       "      <td>-0.025318</td>\n",
       "      <td>-0.007478</td>\n",
       "      <td>-0.007771</td>\n",
       "      <td>-0.004327</td>\n",
       "      <td>0.009151</td>\n",
       "      <td>-0.005592</td>\n",
       "    </tr>\n",
       "    <tr>\n",
       "      <td>2019-12-30</td>\n",
       "      <td>0.017890</td>\n",
       "      <td>0.013411</td>\n",
       "      <td>0.029509</td>\n",
       "      <td>0.018086</td>\n",
       "      <td>0.016090</td>\n",
       "      <td>-0.000844</td>\n",
       "      <td>0.006012</td>\n",
       "      <td>0.007257</td>\n",
       "      <td>0.010665</td>\n",
       "      <td>0.016558</td>\n",
       "      <td>...</td>\n",
       "      <td>0.010455</td>\n",
       "      <td>0.005883</td>\n",
       "      <td>0.015020</td>\n",
       "      <td>0.023799</td>\n",
       "      <td>0.038390</td>\n",
       "      <td>0.013997</td>\n",
       "      <td>0.016435</td>\n",
       "      <td>0.012259</td>\n",
       "      <td>0.010023</td>\n",
       "      <td>0.016031</td>\n",
       "    </tr>\n",
       "  </tbody>\n",
       "</table>\n",
       "<p>4968 rows × 282 columns</p>\n",
       "</div>"
      ],
      "text/plain": [
       "                   A        AB       ABC       ADM       AEE       AEM  \\\n",
       "2000-01-03 -0.079649 -0.004035 -0.072571 -0.011364  0.000000 -0.026404   \n",
       "2000-01-04 -0.065833  0.002139  0.074003 -0.017735  0.035907 -0.010292   \n",
       "2000-01-05 -0.032993  0.021677  0.079331  0.011487  0.002467  0.022421   \n",
       "2000-01-06  0.085669  0.038222  0.127620  0.021479  0.020189  0.031919   \n",
       "2000-01-07  0.055024 -0.021889  0.020469 -0.003824 -0.011027  0.005822   \n",
       "...              ...       ...       ...       ...       ...       ...   \n",
       "2019-12-23  0.006901  0.007791  0.004434  0.007744  0.007893  0.032966   \n",
       "2019-12-24  0.001761  0.002715 -0.004360  0.002621 -0.001462 -0.000491   \n",
       "2019-12-26  0.006121 -0.002719  0.004818  0.008652  0.015213  0.006309   \n",
       "2019-12-27 -0.003997  0.009869 -0.015136 -0.003926  0.003422  0.018980   \n",
       "2019-12-30  0.017890  0.013411  0.029509  0.018086  0.016090 -0.000844   \n",
       "\n",
       "                 AES       AGM       AIT       AJG  ...       WTM      WVVI  \\\n",
       "2000-01-03 -0.040341 -0.026170 -0.015306 -0.046030  ... -0.008499  0.030772   \n",
       "2000-01-04  0.008614 -0.056384 -0.025304  0.002134  ...  0.026620  0.027957   \n",
       "2000-01-05  0.013955  0.043379 -0.012895  0.003013  ... -0.001610 -0.024155   \n",
       "2000-01-06  0.024853  0.032338 -0.026970  0.043969  ... -0.000603  0.035584   \n",
       "2000-01-07  0.040094  0.002905  0.020801 -0.040719  ... -0.005882 -0.033677   \n",
       "...              ...       ...       ...       ...  ...       ...       ...   \n",
       "2019-12-23  0.003377 -0.000174  0.011708  0.009622  ...  0.011805  0.007863   \n",
       "2019-12-24  0.008627  0.006365  0.002103 -0.000106  ... -0.012207  0.005706   \n",
       "2019-12-26  0.008996  0.000469  0.001207  0.008595  ... -0.000243  0.006473   \n",
       "2019-12-27  0.003020 -0.002895  0.003914  0.001589  ...  0.018422 -0.007138   \n",
       "2019-12-30  0.006012  0.007257  0.010665  0.016558  ...  0.010455  0.005883   \n",
       "\n",
       "                 WWD       WWE       WYY      XLNX      XRAY       XRX  \\\n",
       "2000-01-03  0.002886 -0.043394  0.000000 -0.022990  0.000000 -0.047507   \n",
       "2000-01-04 -0.028175  0.034625 -0.015523 -0.024174  0.016584  0.048270   \n",
       "2000-01-05 -0.006207 -0.059853  0.192597 -0.084961  0.005698 -0.015190   \n",
       "2000-01-06  0.005731  0.010139  0.005731  0.113145  0.004321  0.029081   \n",
       "2000-01-07 -0.065572 -0.006761 -0.099134  0.045698  0.018492 -0.027174   \n",
       "...              ...       ...       ...       ...       ...       ...   \n",
       "2019-12-23  0.002142  0.002422 -0.018887  0.002258  0.006956  0.006970   \n",
       "2019-12-24 -0.002447  0.008003 -0.025975  0.001936 -0.010208  0.002959   \n",
       "2019-12-26  0.004612 -0.001530  0.057766  0.003823  0.011941  0.001896   \n",
       "2019-12-27 -0.001864 -0.011500 -0.025318 -0.007478 -0.007771 -0.004327   \n",
       "2019-12-30  0.015020  0.023799  0.038390  0.013997  0.016435  0.012259   \n",
       "\n",
       "                   Y  Russell3000  \n",
       "2000-01-03 -0.005382    -0.039434  \n",
       "2000-01-04 -0.005595    -0.000190  \n",
       "2000-01-05  0.011100     0.005222  \n",
       "2000-01-06  0.032587     0.032486  \n",
       "2000-01-07 -0.019333     0.011535  \n",
       "...              ...          ...  \n",
       "2019-12-23  0.002668     0.006516  \n",
       "2019-12-24  0.002836     0.004546  \n",
       "2019-12-26  0.007669     0.005946  \n",
       "2019-12-27  0.009151    -0.005592  \n",
       "2019-12-30  0.010023     0.016031  \n",
       "\n",
       "[4968 rows x 282 columns]"
      ]
     },
     "execution_count": 36,
     "metadata": {},
     "output_type": "execute_result"
    }
   ],
   "source": [
    "Excess_return"
   ]
  },
  {
   "cell_type": "code",
   "execution_count": null,
   "metadata": {},
   "outputs": [],
   "source": []
  }
 ],
 "metadata": {
  "kernelspec": {
   "display_name": "Python 3",
   "language": "python",
   "name": "python3"
  },
  "language_info": {
   "codemirror_mode": {
    "name": "ipython",
    "version": 3
   },
   "file_extension": ".py",
   "mimetype": "text/x-python",
   "name": "python",
   "nbconvert_exporter": "python",
   "pygments_lexer": "ipython3",
   "version": "3.7.4"
  }
 },
 "nbformat": 4,
 "nbformat_minor": 4
}
