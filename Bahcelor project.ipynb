{
 "cells": [
  {
   "cell_type": "markdown",
   "metadata": {},
   "source": [
    "**Bachelorproject**"
   ]
  },
  {
   "cell_type": "markdown",
   "metadata": {},
   "source": [
    "Documentation: https://addisonlynch.github.io/iexfinance/stable/stocks.html"
   ]
  },
  {
   "cell_type": "code",
   "execution_count": 177,
   "metadata": {},
   "outputs": [],
   "source": [
    "from iexfinance.stocks import Stock\n",
    "from iexfinance.refdata import get_symbols\n",
    "import yfinance as yf\n",
    "import numpy as np\n",
    "import pandas as pd\n",
    "import csv\n",
    "token = 'sk_32c5d1b5f6b044f294391ae88eac3e47'"
   ]
  },
  {
   "cell_type": "code",
   "execution_count": 3,
   "metadata": {},
   "outputs": [],
   "source": [
    "Alle_symboler = get_symbols(output_format='pandas', token=token)"
   ]
  },
  {
   "cell_type": "code",
   "execution_count": 4,
   "metadata": {},
   "outputs": [],
   "source": [
    "#Sorting out all the non common stocks\n",
    "Only_Common_Stocks = get_symbols()[get_symbols().type == 'cs'].reset_index(drop=True)"
   ]
  },
  {
   "cell_type": "code",
   "execution_count": 5,
   "metadata": {},
   "outputs": [],
   "source": [
    "Random_Stocks = []\n",
    "np.random.seed(2000)\n",
    "for i in range(300):\n",
    "    Random_Stocks.append(np.array(Only_Common_Stocks['symbol'])[np.random.randint(0,4521)])\n",
    "Sorted_Random_Stocks = np.sort(Random_Stocks)"
   ]
  },
  {
   "cell_type": "code",
   "execution_count": 164,
   "metadata": {},
   "outputs": [],
   "source": [
    "All_Tickers = []\n",
    "for i in range(4521):\n",
    "    All_Tickers.append(Only_Common_Stocks['symbol'][i])"
   ]
  },
  {
   "cell_type": "code",
   "execution_count": 171,
   "metadata": {},
   "outputs": [
    {
     "name": "stdout",
     "output_type": "stream",
     "text": [
      "- AGM.A: No data found, symbol may be delisted\n",
      "- ALUS: Data doesn't exist for startDate = 946767600, endDate = 1577833200\n",
      "- AMHC: Data doesn't exist for startDate = 946767600, endDate = 1577833200\n",
      "- ARQT: Data doesn't exist for startDate = 946767600, endDate = 1577833200\n",
      "- BATL: Data doesn't exist for startDate = 946767600, endDate = 1577833200\n",
      "- BDTX: Data doesn't exist for startDate = 946767600, endDate = 1577833200\n",
      "- BEAM: Data doesn't exist for startDate = 946767600, endDate = 1577833200\n",
      "- BF.A: No data found, symbol may be delisted\n",
      "- BF.B: No data found for this date range, symbol may be delisted\n",
      "- BH.A: No data found, symbol may be delisted\n",
      "- BIO.B: No data found for this date range, symbol may be delisted\n",
      "- BRK.A: No data found, symbol may be delisted\n",
      "- BRK.B: No data found, symbol may be delisted\n",
      "- BSBK: Data doesn't exist for startDate = 946767600, endDate = 1577833200\n",
      "- BWL.A: No data found, symbol may be delisted\n",
      "- CHPM: Data doesn't exist for startDate = 946767600, endDate = 1577833200\n",
      "- CIIC: Data doesn't exist for startDate = 946767600, endDate = 1577833200\n",
      "- CRD.A: No data found, symbol may be delisted\n",
      "- CRD.B: No data found, symbol may be delisted\n",
      "- CSPR: Data doesn't exist for startDate = 946767600, endDate = 1577833200\n",
      "- CWEN.A: No data found, symbol may be delisted\n",
      "- GEF.B: No data found for this date range, symbol may be delisted\n",
      "- GRIL: Data doesn't exist for startDate = 946767600, endDate = 1577833200\n",
      "- GTN.A: No data found, symbol may be delisted\n",
      "- HCCO: Data doesn't exist for startDate = 946767600, endDate = 1577833200\n",
      "- HEI.A: No data found, symbol may be delisted\n",
      "- HVT.A: No data found, symbol may be delisted\n",
      "- JW.A: No data found, symbol may be delisted\n",
      "- JW.B: No data found, symbol may be delisted\n",
      "- LEN.B: No data found for this date range, symbol may be delisted\n",
      "- LGF.A: No data found, symbol may be delisted\n",
      "- LIVK: Data doesn't exist for startDate = 946767600, endDate = 1577833200\n",
      "- MKC.V: No data found, symbol may be delisted\n",
      "- MOG.A: No data found, symbol may be delisted\n",
      "- MOG.B: No data found, symbol may be delisted\n",
      "- NREF: Data doesn't exist for startDate = 946767600, endDate = 1577833200\n",
      "- ONEM: Data doesn't exist for startDate = 946767600, endDate = 1577833200\n",
      "- ONEW: Data doesn't exist for startDate = 946767600, endDate = 1577833200\n",
      "- PPD: Data doesn't exist for startDate = 946767600, endDate = 1577833200\n",
      "- PTAC: Data doesn't exist for startDate = 946767600, endDate = 1577833200\n",
      "- REYN: Data doesn't exist for startDate = 946767600, endDate = 1577833200\n",
      "- RVMD: Data doesn't exist for startDate = 946767600, endDate = 1577833200\n",
      "- SAQN: Data doesn't exist for startDate = 946767600, endDate = 1577833200\n",
      "- SDGR: Data doesn't exist for startDate = 946767600, endDate = 1577833200\n",
      "- SRAC: No data found for this date range, symbol may be delisted\n",
      "- STZ.B: No data found for this date range, symbol may be delisted\n",
      "- SVA: No data found, symbol may be delisted\n",
      "- TAP.A: No data found, symbol may be delisted\n",
      "- WSO.B: No data found, symbol may be delisted\n",
      "- ZCMD: No data found, symbol may be delisted\n"
     ]
    }
   ],
   "source": [
    "Stocks_With_All_Data = []\n",
    "for i in range(4521):\n",
    "    if len(yf.Ticker(All_Tickers[i]).history(start='2000-01-02', end='2020-01-01')[['Close']]) == 5031:\n",
    "        Stocks_With_All_Data.append(All_Tickers[i])"
   ]
  },
  {
   "cell_type": "code",
   "execution_count": 196,
   "metadata": {},
   "outputs": [
    {
     "data": {
      "text/plain": [
       "1684"
      ]
     },
     "execution_count": 196,
     "metadata": {},
     "output_type": "execute_result"
    }
   ],
   "source": [
    "len(Stocks_With_All_Data)"
   ]
  },
  {
   "cell_type": "code",
   "execution_count": 186,
   "metadata": {},
   "outputs": [],
   "source": [
    "with open('Stocks_With_Data.csv','w',newline='') as file:\n",
    "    wr = csv.writer(file, quoting=csv.QUOTE_ALL)\n",
    "    wr.writerow(Stocks_With_All_Data)"
   ]
  },
  {
   "cell_type": "code",
   "execution_count": 187,
   "metadata": {},
   "outputs": [],
   "source": [
    "with open('Stocks_With_Data.csv',newline='') as file:\n",
    "    reader = csv.reader(file)\n",
    "    ny = list(reader)"
   ]
  },
  {
   "cell_type": "code",
   "execution_count": 195,
   "metadata": {},
   "outputs": [
    {
     "data": {
      "text/plain": [
       "1684"
      ]
     },
     "execution_count": 195,
     "metadata": {},
     "output_type": "execute_result"
    }
   ],
   "source": [
    "len(ny[0])"
   ]
  },
  {
   "cell_type": "code",
   "execution_count": null,
   "metadata": {},
   "outputs": [],
   "source": []
  },
  {
   "cell_type": "code",
   "execution_count": null,
   "metadata": {},
   "outputs": [],
   "source": []
  },
  {
   "cell_type": "code",
   "execution_count": null,
   "metadata": {},
   "outputs": [],
   "source": []
  },
  {
   "cell_type": "markdown",
   "metadata": {},
   "source": [
    "**Adjusting the risk-free rate to match the dates of the stocks**"
   ]
  },
  {
   "cell_type": "code",
   "execution_count": 117,
   "metadata": {},
   "outputs": [],
   "source": [
    "#DTB3 is taken from https://fred.stlouisfed.org/\n",
    "DTB3 = pd.read_csv('DTB3.csv', index_col = 0)\n",
    "#Using Apple as a random benchmark\n",
    "aapl = yf.Ticker('aapl').history(start='2000-01-02', end='2020-01-01')[['Close']]"
   ]
  },
  {
   "cell_type": "code",
   "execution_count": 118,
   "metadata": {},
   "outputs": [],
   "source": [
    "#A list with all dates as string so they match the format of DTB3\n",
    "Dates = []\n",
    "for i in range(len(aapl)):\n",
    "    Dates.append(str(aapl.index.values[i])[:10])"
   ]
  },
  {
   "cell_type": "code",
   "execution_count": 121,
   "metadata": {},
   "outputs": [],
   "source": [
    "Three_Month_Treasury_Bill = DTB3.loc[Dates]"
   ]
  }
 ],
 "metadata": {
  "kernelspec": {
   "display_name": "Python 3",
   "language": "python",
   "name": "python3"
  },
  "language_info": {
   "codemirror_mode": {
    "name": "ipython",
    "version": 3
   },
   "file_extension": ".py",
   "mimetype": "text/x-python",
   "name": "python",
   "nbconvert_exporter": "python",
   "pygments_lexer": "ipython3",
   "version": "3.7.4"
  }
 },
 "nbformat": 4,
 "nbformat_minor": 4
}
