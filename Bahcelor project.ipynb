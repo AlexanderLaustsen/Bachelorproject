{
 "cells": [
  {
   "cell_type": "markdown",
   "metadata": {},
   "source": [
    "**Niks Pille**"
   ]
  },
  {
   "cell_type": "markdown",
   "metadata": {},
   "source": [
    "All Tickers"
   ]
  },
  {
   "cell_type": "code",
   "execution_count": 9,
   "metadata": {
    "jupyter": {
     "source_hidden": true
    }
   },
   "outputs": [],
   "source": [
    "#Getting all tickers in a list\n",
    "All_Tickers = []\n",
    "for i in range(4521):\n",
    "    All_Tickers.append(Only_Common_Stocks['symbol'][i])"
   ]
  },
  {
   "cell_type": "markdown",
   "metadata": {},
   "source": [
    "Creating 'Stock_With_All_Data'"
   ]
  },
  {
   "cell_type": "code",
   "execution_count": 171,
   "metadata": {
    "collapsed": true,
    "jupyter": {
     "outputs_hidden": true,
     "source_hidden": true
    }
   },
   "outputs": [
    {
     "name": "stdout",
     "output_type": "stream",
     "text": [
      "- AGM.A: No data found, symbol may be delisted\n",
      "- ALUS: Data doesn't exist for startDate = 946767600, endDate = 1577833200\n",
      "- AMHC: Data doesn't exist for startDate = 946767600, endDate = 1577833200\n",
      "- ARQT: Data doesn't exist for startDate = 946767600, endDate = 1577833200\n",
      "- BATL: Data doesn't exist for startDate = 946767600, endDate = 1577833200\n",
      "- BDTX: Data doesn't exist for startDate = 946767600, endDate = 1577833200\n",
      "- BEAM: Data doesn't exist for startDate = 946767600, endDate = 1577833200\n",
      "- BF.A: No data found, symbol may be delisted\n",
      "- BF.B: No data found for this date range, symbol may be delisted\n",
      "- BH.A: No data found, symbol may be delisted\n",
      "- BIO.B: No data found for this date range, symbol may be delisted\n",
      "- BRK.A: No data found, symbol may be delisted\n",
      "- BRK.B: No data found, symbol may be delisted\n",
      "- BSBK: Data doesn't exist for startDate = 946767600, endDate = 1577833200\n",
      "- BWL.A: No data found, symbol may be delisted\n",
      "- CHPM: Data doesn't exist for startDate = 946767600, endDate = 1577833200\n",
      "- CIIC: Data doesn't exist for startDate = 946767600, endDate = 1577833200\n",
      "- CRD.A: No data found, symbol may be delisted\n",
      "- CRD.B: No data found, symbol may be delisted\n",
      "- CSPR: Data doesn't exist for startDate = 946767600, endDate = 1577833200\n",
      "- CWEN.A: No data found, symbol may be delisted\n",
      "- GEF.B: No data found for this date range, symbol may be delisted\n",
      "- GRIL: Data doesn't exist for startDate = 946767600, endDate = 1577833200\n",
      "- GTN.A: No data found, symbol may be delisted\n",
      "- HCCO: Data doesn't exist for startDate = 946767600, endDate = 1577833200\n",
      "- HEI.A: No data found, symbol may be delisted\n",
      "- HVT.A: No data found, symbol may be delisted\n",
      "- JW.A: No data found, symbol may be delisted\n",
      "- JW.B: No data found, symbol may be delisted\n",
      "- LEN.B: No data found for this date range, symbol may be delisted\n",
      "- LGF.A: No data found, symbol may be delisted\n",
      "- LIVK: Data doesn't exist for startDate = 946767600, endDate = 1577833200\n",
      "- MKC.V: No data found, symbol may be delisted\n",
      "- MOG.A: No data found, symbol may be delisted\n",
      "- MOG.B: No data found, symbol may be delisted\n",
      "- NREF: Data doesn't exist for startDate = 946767600, endDate = 1577833200\n",
      "- ONEM: Data doesn't exist for startDate = 946767600, endDate = 1577833200\n",
      "- ONEW: Data doesn't exist for startDate = 946767600, endDate = 1577833200\n",
      "- PPD: Data doesn't exist for startDate = 946767600, endDate = 1577833200\n",
      "- PTAC: Data doesn't exist for startDate = 946767600, endDate = 1577833200\n",
      "- REYN: Data doesn't exist for startDate = 946767600, endDate = 1577833200\n",
      "- RVMD: Data doesn't exist for startDate = 946767600, endDate = 1577833200\n",
      "- SAQN: Data doesn't exist for startDate = 946767600, endDate = 1577833200\n",
      "- SDGR: Data doesn't exist for startDate = 946767600, endDate = 1577833200\n",
      "- SRAC: No data found for this date range, symbol may be delisted\n",
      "- STZ.B: No data found for this date range, symbol may be delisted\n",
      "- SVA: No data found, symbol may be delisted\n",
      "- TAP.A: No data found, symbol may be delisted\n",
      "- WSO.B: No data found, symbol may be delisted\n",
      "- ZCMD: No data found, symbol may be delisted\n"
     ]
    }
   ],
   "source": [
    "Stocks_With_All_Data = []\n",
    "for i in range(4521):\n",
    "    if len(yf.Ticker(All_Tickers[i]).history(start='2000-01-02', end='2020-01-01')[['Close']]) == 5031:\n",
    "        Stocks_With_All_Data.append(All_Tickers[i])"
   ]
  },
  {
   "cell_type": "code",
   "execution_count": 186,
   "metadata": {
    "jupyter": {
     "source_hidden": true
    }
   },
   "outputs": [],
   "source": [
    "with open('Stocks_With_Data.csv','w',newline='') as file:\n",
    "    wr = csv.writer(file, quoting=csv.QUOTE_ALL)\n",
    "    wr.writerow(Stocks_With_All_Data)"
   ]
  },
  {
   "cell_type": "markdown",
   "metadata": {},
   "source": [
    "# Bachelorproject"
   ]
  },
  {
   "cell_type": "markdown",
   "metadata": {},
   "source": [
    "Documentation:  \n",
    "https://addisonlynch.github.io/iexfinance/stable/stocks.html  \n",
    "https://github.com/ranaroussi/yfinance"
   ]
  },
  {
   "cell_type": "markdown",
   "metadata": {},
   "source": [
    "## Getting Data"
   ]
  },
  {
   "cell_type": "code",
   "execution_count": 1,
   "metadata": {},
   "outputs": [],
   "source": [
    "#All packages used\n",
    "from iexfinance.stocks import Stock\n",
    "from iexfinance.refdata import get_symbols\n",
    "import yfinance as yf\n",
    "import numpy as np\n",
    "import pandas as pd\n",
    "import csv\n",
    "token = 'sk_32c5d1b5f6b044f294391ae88eac3e47'"
   ]
  },
  {
   "cell_type": "code",
   "execution_count": 2,
   "metadata": {},
   "outputs": [],
   "source": [
    "with open('Stocks_With_Data.csv',newline='') as file:\n",
    "    reader = csv.reader(file)\n",
    "    Stocks_With_All_Data = list(reader)"
   ]
  },
  {
   "cell_type": "code",
   "execution_count": 5,
   "metadata": {},
   "outputs": [],
   "source": [
    "#Russell3000 is used as the market rate since it covers 98% of the American market\n",
    "Russell_3000 = yf.Ticker('^RUA').history(start='2000-01-02', end='2020-01-01')[['Close']]"
   ]
  },
  {
   "cell_type": "code",
   "execution_count": 8,
   "metadata": {},
   "outputs": [],
   "source": [
    "#Get a table with everything on the financial markets in USA\n",
    "Alle_symboler = get_symbols(output_format='pandas', token=token)\n",
    "#Sorting out all the non common stocks\n",
    "Only_Common_Stocks = get_symbols()[get_symbols().type == 'cs'].reset_index(drop=True)"
   ]
  },
  {
   "cell_type": "code",
   "execution_count": 10,
   "metadata": {},
   "outputs": [],
   "source": [
    "#Drawing 300 random stocks for which to be analyzed\n",
    "Stocks = []\n",
    "np.random.seed(2020)\n",
    "for i in range(300):\n",
    "    Stocks.append(Stocks_With_All_Data[0][np.random.randint(0,len(Stocks_With_All_Data[0]))])\n",
    "\n",
    "Stocks.sort()"
   ]
  },
  {
   "cell_type": "markdown",
   "metadata": {},
   "source": [
    "### Adjusting so all data match with no missing values"
   ]
  },
  {
   "cell_type": "code",
   "execution_count": 11,
   "metadata": {},
   "outputs": [],
   "source": [
    "#DTB3 is taken from https://fred.stlouisfed.org/\n",
    "DTB3 = pd.read_csv('DTB3.csv', index_col = 0)\n",
    "#Using Apple as a benchmark\n",
    "aapl = yf.Ticker('aapl').history(start='2000-01-02', end='2020-01-01')[['Close']]\n",
    "#Getting dates from Apple\n",
    "Dates = []\n",
    "for i in range(len(aapl)):\n",
    "    if str(aapl.index[i])[:10] in DTB3.index:\n",
    "        Dates.append(str(aapl.index[i])[:10])\n",
    "#Sorting out missing values\n",
    "Three_Month_Treasury_Bill = DTB3.loc[Dates][DTB3.loc[Dates].DTB3 != '.']\n",
    "#Creating a csv-file with the Three Month Treasury Bill\n",
    "Three_Month_Treasury_Bill.to_csv('Three_Month_Treasury_Bill.csv')"
   ]
  },
  {
   "cell_type": "code",
   "execution_count": 113,
   "metadata": {},
   "outputs": [],
   "source": [
    "Risk_Free_Rate = pd.read_csv('Three_Month_Treasury_Bill.csv', index_col=0)"
   ]
  },
  {
   "cell_type": "code",
   "execution_count": 114,
   "metadata": {},
   "outputs": [
    {
     "data": {
      "text/html": [
       "<div>\n",
       "<style scoped>\n",
       "    .dataframe tbody tr th:only-of-type {\n",
       "        vertical-align: middle;\n",
       "    }\n",
       "\n",
       "    .dataframe tbody tr th {\n",
       "        vertical-align: top;\n",
       "    }\n",
       "\n",
       "    .dataframe thead th {\n",
       "        text-align: right;\n",
       "    }\n",
       "</style>\n",
       "<table border=\"1\" class=\"dataframe\">\n",
       "  <thead>\n",
       "    <tr style=\"text-align: right;\">\n",
       "      <th></th>\n",
       "      <th>DTB3</th>\n",
       "    </tr>\n",
       "    <tr>\n",
       "      <th>DATE</th>\n",
       "      <th></th>\n",
       "    </tr>\n",
       "  </thead>\n",
       "  <tbody>\n",
       "    <tr>\n",
       "      <td>2000-01-03</td>\n",
       "      <td>5.27</td>\n",
       "    </tr>\n",
       "    <tr>\n",
       "      <td>2000-01-04</td>\n",
       "      <td>5.27</td>\n",
       "    </tr>\n",
       "    <tr>\n",
       "      <td>2000-01-05</td>\n",
       "      <td>5.28</td>\n",
       "    </tr>\n",
       "    <tr>\n",
       "      <td>2000-01-06</td>\n",
       "      <td>5.25</td>\n",
       "    </tr>\n",
       "    <tr>\n",
       "      <td>2000-01-07</td>\n",
       "      <td>5.22</td>\n",
       "    </tr>\n",
       "    <tr>\n",
       "      <td>...</td>\n",
       "      <td>...</td>\n",
       "    </tr>\n",
       "    <tr>\n",
       "      <td>2019-12-24</td>\n",
       "      <td>1.55</td>\n",
       "    </tr>\n",
       "    <tr>\n",
       "      <td>2019-12-26</td>\n",
       "      <td>1.55</td>\n",
       "    </tr>\n",
       "    <tr>\n",
       "      <td>2019-12-27</td>\n",
       "      <td>1.54</td>\n",
       "    </tr>\n",
       "    <tr>\n",
       "      <td>2019-12-30</td>\n",
       "      <td>1.54</td>\n",
       "    </tr>\n",
       "    <tr>\n",
       "      <td>2019-12-31</td>\n",
       "      <td>1.52</td>\n",
       "    </tr>\n",
       "  </tbody>\n",
       "</table>\n",
       "<p>4994 rows × 1 columns</p>\n",
       "</div>"
      ],
      "text/plain": [
       "            DTB3\n",
       "DATE            \n",
       "2000-01-03  5.27\n",
       "2000-01-04  5.27\n",
       "2000-01-05  5.28\n",
       "2000-01-06  5.25\n",
       "2000-01-07  5.22\n",
       "...          ...\n",
       "2019-12-24  1.55\n",
       "2019-12-26  1.55\n",
       "2019-12-27  1.54\n",
       "2019-12-30  1.54\n",
       "2019-12-31  1.52\n",
       "\n",
       "[4994 rows x 1 columns]"
      ]
     },
     "execution_count": 114,
     "metadata": {},
     "output_type": "execute_result"
    }
   ],
   "source": [
    "Risk_Free_Rate"
   ]
  },
  {
   "cell_type": "code",
   "execution_count": null,
   "metadata": {},
   "outputs": [],
   "source": []
  },
  {
   "cell_type": "code",
   "execution_count": null,
   "metadata": {},
   "outputs": [],
   "source": []
  }
 ],
 "metadata": {
  "kernelspec": {
   "display_name": "Python 3",
   "language": "python",
   "name": "python3"
  },
  "language_info": {
   "codemirror_mode": {
    "name": "ipython",
    "version": 3
   },
   "file_extension": ".py",
   "mimetype": "text/x-python",
   "name": "python",
   "nbconvert_exporter": "python",
   "pygments_lexer": "ipython3",
   "version": "3.7.4"
  }
 },
 "nbformat": 4,
 "nbformat_minor": 4
}
